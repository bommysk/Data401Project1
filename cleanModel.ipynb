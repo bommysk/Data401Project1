{
 "cells": [
  {
   "cell_type": "code",
<<<<<<< HEAD
   "execution_count": 7,
=======
   "execution_count": null,
>>>>>>> fe3250b1f61feb80360f1d0c140d1e79af79fbd1
   "metadata": {
    "collapsed": false
   },
   "outputs": [],
   "source": [
    "import pandas as pd\n",
    "import scipy\n",
    "from nltk.sentiment.vader import SentimentIntensityAnalyzer;\n",
    "\n",
    "from sklearn.linear_model import LinearRegression\n",
    "from sklearn.linear_model import Lasso\n",
    "\n",
<<<<<<< HEAD
    "from sklearn.model_selection import cross_val_score\n",
    "\n",
    "from sklearn.feature_extraction.text import CountVectorizer\n",
    "from sklearn.feature_extraction.text import TfidfTransformer\n",
    "\n",
    "import nltk.data"
=======
    "from sklearn.model_selection import cross_val_score"
>>>>>>> fe3250b1f61feb80360f1d0c140d1e79af79fbd1
   ]
  },
  {
   "cell_type": "code",
<<<<<<< HEAD
   "execution_count": 3,
=======
   "execution_count": 2,
>>>>>>> fe3250b1f61feb80360f1d0c140d1e79af79fbd1
   "metadata": {
    "collapsed": true
   },
   "outputs": [],
   "source": [
<<<<<<< HEAD
    "data = pd.read_csv(\"/data/beer/train.csv\")\n",
    "test = pd.read_csv(\"/data/beer/test.csv\")"
=======
    "data = pd.read_csv(\"/data/beer/train.csv\")"
>>>>>>> fe3250b1f61feb80360f1d0c140d1e79af79fbd1
   ]
  },
  {
   "cell_type": "code",
<<<<<<< HEAD
   "execution_count": 6,
=======
   "execution_count": 155,
>>>>>>> fe3250b1f61feb80360f1d0c140d1e79af79fbd1
   "metadata": {
    "collapsed": true
   },
   "outputs": [],
   "source": [
<<<<<<< HEAD
    "sid = SentimentIntensityAnalyzer()\n",
    "sentiment = [sid.polarity_scores(str(review))[\"compound\"] for review in data[\"review/text\"]]"
=======
    "test = pd.read_csv(\"/data/beer/test.csv\")"
>>>>>>> fe3250b1f61feb80360f1d0c140d1e79af79fbd1
   ]
  },
  {
   "cell_type": "code",
<<<<<<< HEAD
   "execution_count": 26,
=======
   "execution_count": 3,
>>>>>>> fe3250b1f61feb80360f1d0c140d1e79af79fbd1
   "metadata": {
    "collapsed": true
   },
   "outputs": [],
   "source": [
<<<<<<< HEAD
    "sid = SentimentIntensityAnalyzer()\n",
    "test_sentiment = [sid.polarity_scores(str(review))[\"compound\"] for review in test[\"review/text\"]]"
=======
    "from sklearn.feature_extraction.text import CountVectorizer"
   ]
  },
  {
   "cell_type": "code",
   "execution_count": 145,
   "metadata": {
    "collapsed": false
   },
   "outputs": [],
   "source": [
    "vectorizer = CountVectorizer(ngram_range=(1,2), stop_words=\"english\", max_features=1000)\n",
    "X = vectorizer.fit_transform([str(text) for text in data['review/text']])"
   ]
  },
  {
   "cell_type": "code",
   "execution_count": 146,
   "metadata": {
    "collapsed": false
   },
   "outputs": [],
   "source": [
    "X = pd.DataFrame(X.todense())"
>>>>>>> fe3250b1f61feb80360f1d0c140d1e79af79fbd1
   ]
  },
  {
   "cell_type": "code",
   "execution_count": 134,
   "metadata": {
    "collapsed": false
   },
   "outputs": [],
   "source": [
<<<<<<< HEAD
=======
    "# sid = SentimentIntensityAnalyzer()\n",
    "# sentiment = [sid.polarity_scores(str(review))[\"compound\"] for review in data[\"review/text\"]]\n",
    "\n",
>>>>>>> fe3250b1f61feb80360f1d0c140d1e79af79fbd1
    "# data[\"user/ageInSeconds\"] = data[\"user/ageInSeconds\"].fillna(data['user/ageInSeconds'].mean())\n",
    "# X[\"age\"] = data['user/ageInSeconds'] / (3600 * 24 * 365)"
   ]
  },
  {
   "cell_type": "code",
<<<<<<< HEAD
=======
   "execution_count": 156,
   "metadata": {
    "collapsed": true
   },
   "outputs": [],
   "source": [
    "sid = SentimentIntensityAnalyzer()\n",
    "test_sentiment = [sid.polarity_scores(str(review))[\"compound\"] for review in test[\"review/text\"]]"
   ]
  },
  {
   "cell_type": "code",
>>>>>>> fe3250b1f61feb80360f1d0c140d1e79af79fbd1
   "execution_count": 147,
   "metadata": {
    "collapsed": false
   },
   "outputs": [],
   "source": [
    "X[\"sentiment\"] = sentiment\n",
    "X[\"abv\"] = data[\"beer/ABV\"]"
   ]
  },
  {
   "cell_type": "code",
<<<<<<< HEAD
   "execution_count": 10,
=======
   "execution_count": 148,
   "metadata": {
    "collapsed": false
   },
   "outputs": [],
   "source": [
    "style = pd.get_dummies(data[\"beer/style\"])\n",
    "for col in style:\n",
    "    X[\"user:\" + str(col)] = style[col]"
   ]
  },
  {
   "cell_type": "code",
   "execution_count": 108,
   "metadata": {
    "collapsed": true
   },
   "outputs": [],
   "source": [
    "import nltk.data\n",
    "\n",
    "tokenizer = nltk.data.load('tokenizers/punkt/english.pickle')\n",
    "sentences = [tokenizer.tokenize(str(review)) for review in data['review/text']]"
   ]
  },
  {
   "cell_type": "code",
   "execution_count": 113,
>>>>>>> fe3250b1f61feb80360f1d0c140d1e79af79fbd1
   "metadata": {
    "collapsed": true
   },
   "outputs": [],
   "source": [
    "appearanceWords = [\"appearance\", \"character\", \"image\", \"look\", \"presence\", \"presentation\", \"air\", \"attitude\", \"bearing\", \"blind\",\n",
    "              \"carriage\", \"cast\", \"condition\", \"countenance\", \"demeanor\", \"dress\", \"expression\", \"face\", \"fashion\", \"feature\",\n",
    "              \"figure\", \"form\", \"front\", \"guise\", \"looks\", \"manner\", \"mannerism\", \"mien\", \"mode\", \"outline\", \"pose\", \"screen\",\n",
    "              \"semblance\", \"shape\", \"stamp\",'amber','brown','caramel','chocolate','clean','clouded','coffee','creamy','crisp',\n",
    "              'hazy','head','lacing','orange','orangeamber','pour','red','rich', 'ruby','snifterdeep','solid','tan','toast',\n",
    "              'vanilla','white']\n",
    "\n",
    "aromaWords = [\"aroma\", \"bouquet\", \"odor\", \"perfume\", \"scent\", \"spice\", \"balm\", \"fragrance\", \"incense\", \"redolence\", \"smell\",\n",
    "         'burn','candy','coffee','floral','fruity','grapefruity','herbal','lingering','mild','peppery','rich','roasted',\n",
    "         'sharp','skunky','spice','sweet','toast','vanilla']\n",
    "\n",
    "\n",
    "palateWords = [\"palate\", \"bias\", \"partiality\", \"penchant\", \"tendency\", \"attraction\", \"inclination\", \"preference\", \"appetite\", \n",
    "          \"disposition\", \"gusto\", \"zest\", 'bodied','carbonated','crisp','dense','heavy','kick','lingering','rich','sharp',\n",
    "          'smooth','soft']\n",
    "\n",
    "tasteWords = [\"taste\", \"aftertaste\", \"aroma\", \"bang\", \"bitter\", \"drive\", \"ginger\", \"jolt\", \"kick\", \"oomph\", \"palatableness\",\n",
    "         \"piquancy\", \"punch\", \"relish\", \"salt\", \"sapidity\", \"savor\", \"savoriness\", \"smack\", \"sour\", \"sting\", \"suggestion\",\n",
    "         \"sweet\", \"tang\", \"wallop\", \"zest\", \"zing\", \"zip\", \"sapor\", 'absinthe','aftertaste','biscuity','bitterness','bland',\n",
    "         'bold','bourbon','burn', 'candy','caramel','carbonated','coffee','creamy','crisp','dense','floral','hop','kick',\n",
    "         'lingering','malt','mild','peppery','refreshing','rich','roasted','sharp','sour','spice', 'sugar','sweet','tart',\n",
    "         'tangy','vanilla']"
   ]
  },
  {
   "cell_type": "code",
<<<<<<< HEAD
   "execution_count": 16,
=======
   "execution_count": 115,
>>>>>>> fe3250b1f61feb80360f1d0c140d1e79af79fbd1
   "metadata": {
    "collapsed": false
   },
   "outputs": [],
   "source": [
<<<<<<< HEAD
    "def sentenceSentiment(data):\n",
    "    tokenizer = nltk.data.load('tokenizers/punkt/english.pickle')\n",
    "    sentences = [tokenizer.tokenize(str(review)) for review in data['review/text']]\n",
    "    \n",
    "    aroma = [0 for _ in sentences]\n",
    "    palate = [0 for _ in sentences]\n",
    "    taste = [0 for _ in sentences]\n",
    "    appearance = [0 for _ in sentences]\n",
    "\n",
    "    i = 0\n",
    "    for paragraph in sentences:\n",
    "        aromaCount = 0\n",
    "        palateCount = 0\n",
    "        tasteCount = 0\n",
    "        appearanceCount = 0\n",
    "\n",
    "        for sentence in paragraph:\n",
    "            alphas = ' ' + ''.join(x for x in sentence if x.isalpha() or x == ' ') + ' '\n",
    "            if any(' ' + a + ' ' in alphas for a in aromaWords):\n",
    "                aromaCount += 1\n",
    "                aroma[i] += sid.polarity_scores(sentence)[\"compound\"]\n",
    "            if any(' ' + a + ' ' in alphas for a in palateWords):\n",
    "                palateCount += 1\n",
    "                palate[i] += sid.polarity_scores(sentence)[\"compound\"]\n",
    "            if any(' ' + a + ' ' in alphas for a in tasteWords):\n",
    "                tasteCount += 1\n",
    "                taste[i] += sid.polarity_scores(sentence)[\"compound\"]\n",
    "            if any(' ' + a + ' ' in alphas for a in appearanceWords):\n",
    "                appearanceCount += 1\n",
    "                appearance[i] += sid.polarity_scores(sentence)[\"compound\"]\n",
    "\n",
    "        if aromaCount > 0:\n",
    "            aroma[i] /= aromaCount    \n",
    "        if palateCount > 0:\n",
    "            palate[i] /= palateCount\n",
    "        if tasteCount > 0:\n",
    "            taste[i] /= tasteCount\n",
    "        if appearanceCount > 0:\n",
    "            appearance[i] /= appearanceCount\n",
    "        i += 1\n",
    "        \n",
    "    return {\"appearance\" : appearance, \"aroma\" : aroma, \"palate\" : palate, \"taste\" : taste}"
=======
    "aroma = [0 for _ in sentences]\n",
    "palate = [0 for _ in sentences]\n",
    "taste = [0 for _ in sentences]\n",
    "appearance = [0 for _ in sentences]\n",
    "\n",
    "i = 0\n",
    "for paragraph in sentences:\n",
    "    aromaCount = 0\n",
    "    palateCount = 0\n",
    "    tasteCount = 0\n",
    "    appearanceCount = 0\n",
    "\n",
    "    for sentence in paragraph:\n",
    "        if any(a in sentence for a in aromaWords):\n",
    "            aromaCount += 1\n",
    "            aroma[i] += sid.polarity_scores(sentence)[\"compound\"]\n",
    "        if any(a in sentence for a in palateWords):\n",
    "            palateCount += 1\n",
    "            palate[i] += sid.polarity_scores(sentence)[\"compound\"]\n",
    "        if any(a in sentence for a in tasteWords):\n",
    "            tasteCount += 1\n",
    "            taste[i] += sid.polarity_scores(sentence)[\"compound\"]\n",
    "        if any(a in sentence for a in appearanceWords):\n",
    "            appearanceCount += 1\n",
    "            appearance[i] += sid.polarity_scores(sentence)[\"compound\"]\n",
    "    \n",
    "    if aromaCount > 0:\n",
    "        aroma[i] /= aromaCount    \n",
    "    if palateCount > 0:\n",
    "        palate[i] /= palateCount\n",
    "    if tasteCount > 0:\n",
    "        taste[i] /= tasteCount\n",
    "    if appearanceCount > 0:\n",
    "        appearance[i] /= appearanceCount\n",
    "    i += 1"
>>>>>>> fe3250b1f61feb80360f1d0c140d1e79af79fbd1
   ]
  },
  {
   "cell_type": "code",
<<<<<<< HEAD
   "execution_count": 17,
   "metadata": {
    "collapsed": false
   },
   "outputs": [],
   "source": [
    "sentences = sentenceSentiment(data)"
=======
   "execution_count": 158,
   "metadata": {
    "collapsed": true
   },
   "outputs": [],
   "source": [
    "tokenizer = nltk.data.load('tokenizers/punkt/english.pickle')\n",
    "test_sentences = [tokenizer.tokenize(str(review)) for review in test['review/text']]"
>>>>>>> fe3250b1f61feb80360f1d0c140d1e79af79fbd1
   ]
  },
  {
   "cell_type": "code",
<<<<<<< HEAD
   "execution_count": 19,
=======
   "execution_count": 164,
>>>>>>> fe3250b1f61feb80360f1d0c140d1e79af79fbd1
   "metadata": {
    "collapsed": true
   },
   "outputs": [],
   "source": [
<<<<<<< HEAD
    "test_sentences = sentenceSentiment(test)"
   ]
  },
  {
   "cell_type": "markdown",
   "metadata": {},
   "source": [
    "review/palate:     0.266360520049\n",
    "review/aroma:      0.27499270306\n",
    "review/taste:      0.277464650465\n",
    "review/appearance: 0.236480775284\n",
    "review/overall:    0.310799823099\n",
    "\n",
    "review/palate:     0.253683886305\n",
    "review/aroma:      0.253140656648\n",
    "review/taste:      0.259079936169\n",
    "review/appearance: 0.2215648635\n",
    "review/overall:    0.298516358874\n",
    "\n",
    "review/palate:     0.253673400152\n",
    "review/aroma:      0.253174497474\n",
    "review/taste:      0.259068148975\n",
    "review/appearance: 0.221632953296\n",
    "review/overall:    0.298497046681\n",
    "\n",
    "review/palate:     0.253498607764\n",
    "review/aroma:      0.251732535731\n",
    "review/taste:      0.257598991441\n",
    "review/appearance: 0.219973970342\n",
    "review/overall:    0.298497046681\n",
    "\n",
    "appearance 0.217367350449\n",
    "aroma 0.246278263103\n",
    "overall 0.291123078719\n",
    "palate 0.248465609238\n",
    "taste 0.249787413555\n",
    "\n",
    "appearance 0.217314205533\n",
    "aroma 0.246408043701\n",
    "overall 0.290893370928\n",
    "palate 0.248406747248\n",
    "taste 0.24962118813"
=======
    "test_aroma = [0 for _ in test_sentences]\n",
    "test_palate = [0 for _ in test_sentences]\n",
    "test_taste = [0 for _ in test_sentences]\n",
    "test_appearance = [0 for _ in test_sentences]\n",
    "\n",
    "i = 0\n",
    "for paragraph in test_sentences:\n",
    "    aromaCount = 0\n",
    "    palateCount = 0\n",
    "    tasteCount = 0\n",
    "    appearanceCount = 0\n",
    "\n",
    "    for sentence in paragraph:\n",
    "        if any(a in sentence for a in aromaWords):\n",
    "            aromaCount += 1\n",
    "            test_aroma[i] += sid.polarity_scores(sentence)[\"compound\"]\n",
    "        if any(a in sentence for a in palateWords):\n",
    "            palateCount += 1\n",
    "            test_palate[i] += sid.polarity_scores(sentence)[\"compound\"]\n",
    "        if any(a in sentence for a in tasteWords):\n",
    "            tasteCount += 1\n",
    "            test_taste[i] += sid.polarity_scores(sentence)[\"compound\"]\n",
    "        if any(a in sentence for a in appearanceWords):\n",
    "            appearanceCount += 1\n",
    "            test_appearance[i] += sid.polarity_scores(sentence)[\"compound\"]\n",
    "    \n",
    "    if aromaCount > 0:\n",
    "        test_aroma[i] /= aromaCount    \n",
    "    if palateCount > 0:\n",
    "        test_palate[i] /= palateCount\n",
    "    if tasteCount > 0:\n",
    "        test_taste[i] /= tasteCount\n",
    "    if appearanceCount > 0:\n",
    "        test_appearance[i] /= appearanceCount\n",
    "    i += 1"
>>>>>>> fe3250b1f61feb80360f1d0c140d1e79af79fbd1
   ]
  },
  {
   "cell_type": "code",
<<<<<<< HEAD
   "execution_count": 35,
   "metadata": {
    "collapsed": true
   },
   "outputs": [],
   "source": [
    "reviews = [\"appearance\", \"aroma\", \"overall\", \"palate\", \"taste\"]\n",
    "predictions = pd.DataFrame(index = test[\"index\"])\n",
    "mse = {}\n",
    "\n",
    "diff = list(set(pd.get_dummies(data[\"beer/style\"]).columns) - set(pd.get_dummies(test[\"beer/style\"]).columns))\n",
    "\n",
    "# vectorizer = CountVectorizer(ngram_range=(2,2), stop_words=\"english\", max_features=1000)\n",
    "vectorizer = CountVectorizer(stop_words=\"english\", max_features=1000)\n",
    "X_train_counts = vectorizer.fit_transform([str(text) for text in data['review/text']])\n",
    "\n",
    "tf_transformer = TfidfTransformer().fit(X_train_counts)\n",
    "X_tfidf = tf_transformer.transform(X_train_counts)\n",
    "\n",
    "X = pd.DataFrame(X_tfidf.todense())\n",
    "\n",
    "X[\"sentiment\"] = sentiment\n",
    "X[\"abv\"] = data[\"beer/ABV\"]\n",
    "\n",
    "style = pd.get_dummies(data[\"beer/style\"])\n",
    "for col in style:\n",
    "    X[\"style:\" + str(col)] = style[col]\n",
    "\n",
    "for col in diff:\n",
    "    del X[\"style:\" + col]\n",
    "\n",
    "# X_test_counts = vectorizer.transform([str(text) for text in test['review/text']])\n",
    "# X_test_tfidf = tf_transformer.transform(X_test_counts)\n",
    "\n",
    "# X_test = pd.DataFrame(X_test_tfidf.todense())\n",
    "    \n",
    "# X_test[\"sentiment\"] = test_sentiment\n",
    "# X_test[\"abv\"] = test[\"beer/ABV\"]\n",
    "\n",
    "# style = pd.get_dummies(test[\"beer/style\"])\n",
    "# for col in style:\n",
    "#     X_test[\"style:\" + str(col)] = style[col]"
=======
   "execution_count": 129,
   "metadata": {
    "collapsed": false
   },
   "outputs": [
    {
     "data": {
      "text/plain": [
       "<37500x1097 sparse matrix of type '<class 'numpy.float64'>'\n",
       "\twith 1891107 stored elements in Compressed Sparse Row format>"
      ]
     },
     "execution_count": 129,
     "metadata": {},
     "output_type": "execute_result"
    }
   ],
   "source": [
    "X"
>>>>>>> fe3250b1f61feb80360f1d0c140d1e79af79fbd1
   ]
  },
  {
   "cell_type": "code",
<<<<<<< HEAD
   "execution_count": 36,
=======
   "execution_count": 106,
>>>>>>> fe3250b1f61feb80360f1d0c140d1e79af79fbd1
   "metadata": {
    "collapsed": false
   },
   "outputs": [
    {
<<<<<<< HEAD
     "name": "stdout",
     "output_type": "stream",
     "text": [
      "appearance    (37500, 1095)\n",
      "aroma         (37500, 1095)\n",
      "overall       (37500, 1094)\n",
      "palate        (37500, 1095)\n",
      "taste         (37500, 1095)\n"
     ]
    },
    {
     "data": {
      "text/plain": [
       "{'appearance': 0.21998901557331241,\n",
       " 'aroma': 0.24597798523763581,\n",
       " 'overall': 0.2914406947853439,\n",
       " 'palate': 0.24921256398604541,\n",
       " 'taste': 0.24866960899616641}"
      ]
     },
     "execution_count": 36,
=======
     "data": {
      "text/plain": [
       "Index(['index', 'beer/ABV', 'beer/beerId', 'beer/brewerId', 'beer/name',\n",
       "       'beer/style', 'review/appearance', 'review/aroma', 'review/overall',\n",
       "       'review/palate', 'review/taste', 'review/text', 'review/timeStruct',\n",
       "       'review/timeUnix', 'user/ageInSeconds', 'user/birthdayRaw',\n",
       "       'user/birthdayUnix', 'user/gender', 'user/profileName'],\n",
       "      dtype='object')"
      ]
     },
     "execution_count": 106,
>>>>>>> fe3250b1f61feb80360f1d0c140d1e79af79fbd1
     "metadata": {},
     "output_type": "execute_result"
    }
   ],
   "source": [
<<<<<<< HEAD
    "for review in reviews:\n",
    "    model = LinearRegression()\n",
    "        \n",
    "    if review != \"overall\":            \n",
    "        X[review] = sentences[review]\n",
    "\n",
    "    X.columns = X.columns.astype(str)\n",
    "    X.sort_index(axis=1, inplace=True)\n",
    "        \n",
    "#     model.fit(X, data[\"review/\"+review])\n",
    "    print(review.ljust(13), X.shape)\n",
    "    mse[review] = -cross_val_score(model, X, data[\"review/\" + review], cv=5, scoring=\"neg_mean_squared_error\").mean()\n",
    "    \n",
    "    if review != \"overall\":            \n",
    "        del X[review]\n",
    "        \n",
    "#     if review != \"overall\":            \n",
    "#         X_test[review] = test_sentences[review]\n",
    "\n",
    "#     X_test.columns = X_test.columns.astype(str)\n",
    "#     X_test.sort_index(axis=1, inplace=True)\n",
    "    \n",
    "#     print(review)\n",
    "#     predictions[\"review/\"+review] = model.predict(X_test)\n",
    "\n",
    "#     \n",
    "\n",
    "mse"
=======
    "data.columns"
   ]
  },
  {
   "cell_type": "code",
   "execution_count": 192,
   "metadata": {
    "collapsed": false
   },
   "outputs": [
    {
     "name": "stdout",
     "output_type": "stream",
     "text": [
      "   0  1  10  100  101  102  103  104  105  106      ...        \\\n",
      "0  0  0   0    0    0    0    0    0    0    0      ...         \n",
      "1  0  0   0    0    0    0    1    0    0    0      ...         \n",
      "2  0  0   0    0    0    0    1    0    0    0      ...         \n",
      "3  0  1   0    0    0    0    0    0    0    0      ...         \n",
      "4  0  0   0    0    1    0    0    0    0    0      ...         \n",
      "\n",
      "   style:Scotch Ale / Wee Heavy  style:Scottish Ale  \\\n",
      "0                             0                   0   \n",
      "1                             0                   0   \n",
      "2                             0                   0   \n",
      "3                             0                   0   \n",
      "4                             0                   0   \n",
      "\n",
      "   style:Scottish Gruit / Ancient Herbed Ale  style:Smoked Beer  style:Tripel  \\\n",
      "0                                          0                  0             0   \n",
      "1                                          0                  0             0   \n",
      "2                                          0                  0             0   \n",
      "3                                          0                  0             0   \n",
      "4                                          0                  0             0   \n",
      "\n",
      "   style:Vienna Lager  style:Weizenbock  style:Wheatwine  style:Winter Warmer  \\\n",
      "0                   0                 0                0                    0   \n",
      "1                   0                 0                0                    0   \n",
      "2                   0                 0                0                    0   \n",
      "3                   0                 0                0                    0   \n",
      "4                   0                 0                0                    0   \n",
      "\n",
      "   style:Witbier  \n",
      "0              0  \n",
      "1              0  \n",
      "2              0  \n",
      "3              0  \n",
      "4              0  \n",
      "\n",
      "[5 rows x 1098 columns]\n",
      "   0  1  10  100  101  102  103  104  105  106      ...        \\\n",
      "0  0  0   0    0    0    0    0    0    0    0      ...         \n",
      "1  0  0   0    0    0    0    1    0    0    0      ...         \n",
      "2  0  0   0    0    0    0    0    1    0    0      ...         \n",
      "3  0  0   1    0    0    0    0    0    0    0      ...         \n",
      "4  0  0   0    0    0    1    0    0    0    0      ...         \n",
      "\n",
      "   style:Scotch Ale / Wee Heavy  style:Scottish Ale  \\\n",
      "0                             0                   0   \n",
      "1                             0                   0   \n",
      "2                             0                   0   \n",
      "3                             0                   0   \n",
      "4                             0                   0   \n",
      "\n",
      "   style:Scottish Gruit / Ancient Herbed Ale  style:Smoked Beer  style:Tripel  \\\n",
      "0                                          0                  0             0   \n",
      "1                                          0                  0             0   \n",
      "2                                          0                  0             0   \n",
      "3                                          0                  0             0   \n",
      "4                                          0                  0             0   \n",
      "\n",
      "   style:Vienna Lager  style:Weizenbock  style:Wheatwine  style:Winter Warmer  \\\n",
      "0                   0                 0                0                    0   \n",
      "1                   0                 0                0                    0   \n",
      "2                   0                 0                0                    0   \n",
      "3                   0                 0                0                    0   \n",
      "4                   0                 0                0                    0   \n",
      "\n",
      "   style:Witbier  \n",
      "0              0  \n",
      "1              0  \n",
      "2              0  \n",
      "3              0  \n",
      "4              0  \n",
      "\n",
      "[5 rows x 1098 columns]\n",
      "   0  1  10  100  101  102  103  104  105  106      ...        \\\n",
      "0  0  0   0    0    0    0    0    0    0    0      ...         \n",
      "1  0  0   0    0    0    0    1    0    0    0      ...         \n",
      "2  0  0   0    0    0    0    1    0    0    0      ...         \n",
      "3  0  1   0    0    0    0    0    0    0    0      ...         \n",
      "4  0  0   0    0    1    0    0    0    0    0      ...         \n",
      "\n",
      "   style:Scotch Ale / Wee Heavy  style:Scottish Ale  \\\n",
      "0                             0                   0   \n",
      "1                             0                   0   \n",
      "2                             0                   0   \n",
      "3                             0                   0   \n",
      "4                             0                   0   \n",
      "\n",
      "   style:Scottish Gruit / Ancient Herbed Ale  style:Smoked Beer  style:Tripel  \\\n",
      "0                                          0                  0             0   \n",
      "1                                          0                  0             0   \n",
      "2                                          0                  0             0   \n",
      "3                                          0                  0             0   \n",
      "4                                          0                  0             0   \n",
      "\n",
      "   style:Vienna Lager  style:Weizenbock  style:Wheatwine  style:Winter Warmer  \\\n",
      "0                   0                 0                0                    0   \n",
      "1                   0                 0                0                    0   \n",
      "2                   0                 0                0                    0   \n",
      "3                   0                 0                0                    0   \n",
      "4                   0                 0                0                    0   \n",
      "\n",
      "   style:Witbier  \n",
      "0              0  \n",
      "1              0  \n",
      "2              0  \n",
      "3              0  \n",
      "4              0  \n",
      "\n",
      "[5 rows x 1098 columns]\n",
      "   0  1  10  100  101  102  103  104  105  106      ...        \\\n",
      "0  0  0   0    0    0    0    0    0    0    0      ...         \n",
      "1  0  0   0    0    0    0    1    0    0    0      ...         \n",
      "2  0  0   0    0    0    0    0    1    0    0      ...         \n",
      "3  0  0   1    0    0    0    0    0    0    0      ...         \n",
      "4  0  0   0    0    0    1    0    0    0    0      ...         \n",
      "\n",
      "   style:Scotch Ale / Wee Heavy  style:Scottish Ale  \\\n",
      "0                             0                   0   \n",
      "1                             0                   0   \n",
      "2                             0                   0   \n",
      "3                             0                   0   \n",
      "4                             0                   0   \n",
      "\n",
      "   style:Scottish Gruit / Ancient Herbed Ale  style:Smoked Beer  style:Tripel  \\\n",
      "0                                          0                  0             0   \n",
      "1                                          0                  0             0   \n",
      "2                                          0                  0             0   \n",
      "3                                          0                  0             0   \n",
      "4                                          0                  0             0   \n",
      "\n",
      "   style:Vienna Lager  style:Weizenbock  style:Wheatwine  style:Winter Warmer  \\\n",
      "0                   0                 0                0                    0   \n",
      "1                   0                 0                0                    0   \n",
      "2                   0                 0                0                    0   \n",
      "3                   0                 0                0                    0   \n",
      "4                   0                 0                0                    0   \n",
      "\n",
      "   style:Witbier  \n",
      "0              0  \n",
      "1              0  \n",
      "2              0  \n",
      "3              0  \n",
      "4              0  \n",
      "\n",
      "[5 rows x 1098 columns]\n",
      "   0  1  10  100  101  102  103  104  105  106      ...        \\\n",
      "0  0  0   0    0    0    0    0    0    0    0      ...         \n",
      "1  0  0   0    0    0    0    1    0    0    0      ...         \n",
      "2  0  0   0    0    0    0    1    0    0    0      ...         \n",
      "3  0  1   0    0    0    0    0    0    0    0      ...         \n",
      "4  0  0   0    0    1    0    0    0    0    0      ...         \n",
      "\n",
      "   style:Scotch Ale / Wee Heavy  style:Scottish Ale  \\\n",
      "0                             0                   0   \n",
      "1                             0                   0   \n",
      "2                             0                   0   \n",
      "3                             0                   0   \n",
      "4                             0                   0   \n",
      "\n",
      "   style:Scottish Gruit / Ancient Herbed Ale  style:Smoked Beer  style:Tripel  \\\n",
      "0                                          0                  0             0   \n",
      "1                                          0                  0             0   \n",
      "2                                          0                  0             0   \n",
      "3                                          0                  0             0   \n",
      "4                                          0                  0             0   \n",
      "\n",
      "   style:Vienna Lager  style:Weizenbock  style:Wheatwine  style:Winter Warmer  \\\n",
      "0                   0                 0                0                    0   \n",
      "1                   0                 0                0                    0   \n",
      "2                   0                 0                0                    0   \n",
      "3                   0                 0                0                    0   \n",
      "4                   0                 0                0                    0   \n",
      "\n",
      "   style:Witbier  \n",
      "0              0  \n",
      "1              0  \n",
      "2              0  \n",
      "3              0  \n",
      "4              0  \n",
      "\n",
      "[5 rows x 1097 columns]\n",
      "   0  1  10  100  101  102  103  104  105  106      ...        \\\n",
      "0  0  0   0    0    0    0    0    0    0    0      ...         \n",
      "1  0  0   0    0    0    0    1    0    0    0      ...         \n",
      "2  0  0   0    0    0    0    0    1    0    0      ...         \n",
      "3  0  0   1    0    0    0    0    0    0    0      ...         \n",
      "4  0  0   0    0    0    1    0    0    0    0      ...         \n",
      "\n",
      "   style:Scotch Ale / Wee Heavy  style:Scottish Ale  \\\n",
      "0                             0                   0   \n",
      "1                             0                   0   \n",
      "2                             0                   0   \n",
      "3                             0                   0   \n",
      "4                             0                   0   \n",
      "\n",
      "   style:Scottish Gruit / Ancient Herbed Ale  style:Smoked Beer  style:Tripel  \\\n",
      "0                                          0                  0             0   \n",
      "1                                          0                  0             0   \n",
      "2                                          0                  0             0   \n",
      "3                                          0                  0             0   \n",
      "4                                          0                  0             0   \n",
      "\n",
      "   style:Vienna Lager  style:Weizenbock  style:Wheatwine  style:Winter Warmer  \\\n",
      "0                   0                 0                0                    0   \n",
      "1                   0                 0                0                    0   \n",
      "2                   0                 0                0                    0   \n",
      "3                   0                 0                0                    0   \n",
      "4                   0                 0                0                    0   \n",
      "\n",
      "   style:Witbier  \n",
      "0              0  \n",
      "1              0  \n",
      "2              0  \n",
      "3              0  \n",
      "4              0  \n",
      "\n",
      "[5 rows x 1097 columns]\n",
      "   0  1  10  100  101  102  103  104  105  106      ...        \\\n",
      "0  0  0   0    0    0    0    0    0    0    0      ...         \n",
      "1  0  0   0    0    0    0    1    0    0    0      ...         \n",
      "2  0  0   0    0    0    0    1    0    0    0      ...         \n",
      "3  0  1   0    0    0    0    0    0    0    0      ...         \n",
      "4  0  0   0    0    1    0    0    0    0    0      ...         \n",
      "\n",
      "   style:Scotch Ale / Wee Heavy  style:Scottish Ale  \\\n",
      "0                             0                   0   \n",
      "1                             0                   0   \n",
      "2                             0                   0   \n",
      "3                             0                   0   \n",
      "4                             0                   0   \n",
      "\n",
      "   style:Scottish Gruit / Ancient Herbed Ale  style:Smoked Beer  style:Tripel  \\\n",
      "0                                          0                  0             0   \n",
      "1                                          0                  0             0   \n",
      "2                                          0                  0             0   \n",
      "3                                          0                  0             0   \n",
      "4                                          0                  0             0   \n",
      "\n",
      "   style:Vienna Lager  style:Weizenbock  style:Wheatwine  style:Winter Warmer  \\\n",
      "0                   0                 0                0                    0   \n",
      "1                   0                 0                0                    0   \n",
      "2                   0                 0                0                    0   \n",
      "3                   0                 0                0                    0   \n",
      "4                   0                 0                0                    0   \n",
      "\n",
      "   style:Witbier  \n",
      "0              0  \n",
      "1              0  \n",
      "2              0  \n",
      "3              0  \n",
      "4              0  \n",
      "\n",
      "[5 rows x 1098 columns]\n",
      "   0  1  10  100  101  102  103  104  105  106      ...        \\\n",
      "0  0  0   0    0    0    0    0    0    0    0      ...         \n",
      "1  0  0   0    0    0    0    1    0    0    0      ...         \n",
      "2  0  0   0    0    0    0    0    1    0    0      ...         \n",
      "3  0  0   1    0    0    0    0    0    0    0      ...         \n",
      "4  0  0   0    0    0    1    0    0    0    0      ...         \n",
      "\n",
      "   style:Scotch Ale / Wee Heavy  style:Scottish Ale  \\\n",
      "0                             0                   0   \n",
      "1                             0                   0   \n",
      "2                             0                   0   \n",
      "3                             0                   0   \n",
      "4                             0                   0   \n",
      "\n",
      "   style:Scottish Gruit / Ancient Herbed Ale  style:Smoked Beer  style:Tripel  \\\n",
      "0                                          0                  0             0   \n",
      "1                                          0                  0             0   \n",
      "2                                          0                  0             0   \n",
      "3                                          0                  0             0   \n",
      "4                                          0                  0             0   \n",
      "\n",
      "   style:Vienna Lager  style:Weizenbock  style:Wheatwine  style:Winter Warmer  \\\n",
      "0                   0                 0                0                    0   \n",
      "1                   0                 0                0                    0   \n",
      "2                   0                 0                0                    0   \n",
      "3                   0                 0                0                    0   \n",
      "4                   0                 0                0                    0   \n",
      "\n",
      "   style:Witbier  \n",
      "0              0  \n",
      "1              0  \n",
      "2              0  \n",
      "3              0  \n",
      "4              0  \n",
      "\n",
      "[5 rows x 1098 columns]\n",
      "   0  1  10  100  101  102  103  104  105  106    ...     style:Scottish Ale  \\\n",
      "0  0  0   0    0    0    0    0    0    0    0    ...                      0   \n",
      "1  0  0   0    0    0    0    1    0    0    0    ...                      0   \n",
      "2  0  0   0    0    0    0    1    0    0    0    ...                      0   \n",
      "3  0  1   0    0    0    0    0    0    0    0    ...                      0   \n",
      "4  0  0   0    0    1    0    0    0    0    0    ...                      0   \n",
      "\n",
      "   style:Scottish Gruit / Ancient Herbed Ale  style:Smoked Beer  style:Tripel  \\\n",
      "0                                          0                  0             0   \n",
      "1                                          0                  0             0   \n",
      "2                                          0                  0             0   \n",
      "3                                          0                  0             0   \n",
      "4                                          0                  0             0   \n",
      "\n",
      "   style:Vienna Lager  style:Weizenbock  style:Wheatwine  style:Winter Warmer  \\\n",
      "0                   0                 0                0                    0   \n",
      "1                   0                 0                0                    0   \n",
      "2                   0                 0                0                    0   \n",
      "3                   0                 0                0                    0   \n",
      "4                   0                 0                0                    0   \n",
      "\n",
      "   style:Witbier     taste  \n",
      "0              0 -0.054314  \n",
      "1              0  0.059480  \n",
      "2              0  0.249533  \n",
      "3              0  0.000000  \n",
      "4              0  0.437350  \n",
      "\n",
      "[5 rows x 1098 columns]\n",
      "   0  1  10  100  101  102  103  104  105  106    ...     style:Scottish Ale  \\\n",
      "0  0  0   0    0    0    0    0    0    0    0    ...                      0   \n",
      "1  0  0   0    0    0    0    1    0    0    0    ...                      0   \n",
      "2  0  0   0    0    0    0    0    1    0    0    ...                      0   \n",
      "3  0  0   1    0    0    0    0    0    0    0    ...                      0   \n",
      "4  0  0   0    0    0    1    0    0    0    0    ...                      0   \n",
      "\n",
      "   style:Scottish Gruit / Ancient Herbed Ale  style:Smoked Beer  style:Tripel  \\\n",
      "0                                          0                  0             0   \n",
      "1                                          0                  0             0   \n",
      "2                                          0                  0             0   \n",
      "3                                          0                  0             0   \n",
      "4                                          0                  0             0   \n",
      "\n",
      "   style:Vienna Lager  style:Weizenbock  style:Wheatwine  style:Winter Warmer  \\\n",
      "0                   0                 0                0                    0   \n",
      "1                   0                 0                0                    0   \n",
      "2                   0                 0                0                    0   \n",
      "3                   0                 0                0                    0   \n",
      "4                   0                 0                0                    0   \n",
      "\n",
      "   style:Witbier     taste  \n",
      "0              0  0.298767  \n",
      "1              0  0.342850  \n",
      "2              0  0.054500  \n",
      "3              0  0.165875  \n",
      "4              0  0.266400  \n",
      "\n",
      "[5 rows x 1098 columns]\n"
     ]
    }
   ],
   "source": [
    "sent = {\"palate\" : palate, \"aroma\" : aroma, \"taste\" : taste, \"appearance\" : appearance}\n",
    "test_sent = {\"palate\" : test_palate, \"aroma\" : test_aroma, \"taste\" : test_taste, \"appearance\" : test_appearance}\n",
    "reviews = [\"appearance\", \"aroma\", \"overall\", \"palate\", \"taste\"]\n",
    "\n",
    "diff = list(set(pd.get_dummies(data[\"beer/style\"]).columns) - set(pd.get_dummies(test[\"beer/style\"]).columns))\n",
    "\n",
    "predictions = pd.DataFrame(index = test[\"index\"])\n",
    "\n",
    "for review in reviews:\n",
    "    model = LinearRegression()\n",
    "    \n",
    "    vectorizer = CountVectorizer(ngram_range=(1,2), stop_words=\"english\", max_features=1000)\n",
    "    X = vectorizer.fit_transform([str(text) for text in data['review/text']])\n",
    "\n",
    "    X = pd.DataFrame(X.todense())\n",
    "\n",
    "    X[\"sentiment\"] = sentiment\n",
    "    X[\"abv\"] = data[\"beer/ABV\"]\n",
    "\n",
    "    style = pd.get_dummies(data[\"beer/style\"])\n",
    "    for col in style:\n",
    "        X[\"style:\" + str(col)] = style[col]\n",
    "        \n",
    "    if review != \"overall\":            \n",
    "        X[review] = sent[review]\n",
    "\n",
    "    X.columns = X.columns.astype(str)\n",
    "    X.sort_index(axis=1, inplace=True)\n",
    "    print(X.head())\n",
    "        \n",
    "#     X = scipy.sparse.csr_matrix(X.values)\n",
    "#     print(review, -cross_val_score(model, X, data[\"review/\" + review], cv=10, scoring=\"neg_mean_squared_error\").mean())\n",
    "\n",
    "    model.fit(X, data[\"review/\"+review])\n",
    "    \n",
    "    Xtest = vectorizer.transform([str(text) for text in test['review/text']])\n",
    "    Xtest = pd.DataFrame(Xtest.todense())\n",
    "\n",
    "    Xtest[\"sentiment\"] = test_sentiment\n",
    "    Xtest[\"abv\"] = test[\"beer/ABV\"]\n",
    "\n",
    "    style = pd.get_dummies(test[\"beer/style\"])\n",
    "    for col in style:\n",
    "        Xtest[\"style:\" + str(col)] = style[col]\n",
    "        \n",
    "    for col in diff:\n",
    "        Xtest[\"style:\" + col] = [0 for _ in Xtest[\"abv\"]]\n",
    "        \n",
    "    if review != \"overall\":            \n",
    "        Xtest[review] = test_sent[review]\n",
    "        \n",
    "    Xtest.columns = Xtest.columns.astype(str)\n",
    "    Xtest.sort_index(axis=1, inplace=True)\n",
    "    print(Xtest.head())\n",
    "\n",
    "#     Xtest = scipy.sparse.csr_matrix(Xtest.values)\n",
    "    predictions[\"review/\"+review] = model.predict(Xtest)"
>>>>>>> fe3250b1f61feb80360f1d0c140d1e79af79fbd1
   ]
  },
  {
   "cell_type": "code",
<<<<<<< HEAD
   "execution_count": 29,
   "metadata": {
    "collapsed": true
=======
   "execution_count": 193,
   "metadata": {
    "collapsed": false
>>>>>>> fe3250b1f61feb80360f1d0c140d1e79af79fbd1
   },
   "outputs": [],
   "source": [
    "predictions.to_csv(\"output.csv\")"
   ]
  },
  {
<<<<<<< HEAD
   "cell_type": "code",
   "execution_count": 34,
   "metadata": {
    "collapsed": false
   },
   "outputs": [
    {
     "data": {
      "text/plain": [
       "{'appearance': 0.21923315098618282,\n",
       " 'aroma': 0.24660356133669969,\n",
       " 'overall': 0.29307004260606423,\n",
       " 'palate': 0.24983756470306431,\n",
       " 'taste': 0.25182139979221557}"
      ]
     },
     "execution_count": 34,
     "metadata": {},
     "output_type": "execute_result"
    }
   ],
   "source": [
    "mse"
   ]
=======
   "cell_type": "markdown",
   "metadata": {},
   "source": [
    "review/palate:     0.266360520049\n",
    "review/aroma:      0.27499270306\n",
    "review/taste:      0.277464650465\n",
    "review/appearance: 0.236480775284\n",
    "review/overall:    0.310799823099\n",
    "\n",
    "review/palate:     0.253683886305\n",
    "review/aroma:      0.253140656648\n",
    "review/taste:      0.259079936169\n",
    "review/appearance: 0.2215648635\n",
    "review/overall:    0.298516358874\n",
    "\n",
    "review/palate:     0.253673400152\n",
    "review/aroma:      0.253174497474\n",
    "review/taste:      0.259068148975\n",
    "review/appearance: 0.221632953296\n",
    "review/overall:    0.298497046681\n",
    "\n",
    "review/palate:     0.253498607764\n",
    "review/aroma:      0.251732535731\n",
    "review/taste:      0.257598991441\n",
    "review/appearance: 0.219973970342\n",
    "review/overall:    0.298497046681"
   ]
  },
  {
   "cell_type": "code",
   "execution_count": 151,
   "metadata": {
    "collapsed": true
   },
   "outputs": [],
   "source": []
>>>>>>> fe3250b1f61feb80360f1d0c140d1e79af79fbd1
  },
  {
   "cell_type": "code",
   "execution_count": null,
   "metadata": {
    "collapsed": true
   },
   "outputs": [],
   "source": []
  }
 ],
 "metadata": {
  "kernelspec": {
   "display_name": "Python 3",
   "language": "python",
   "name": "python3"
  },
  "language_info": {
   "codemirror_mode": {
    "name": "ipython",
    "version": 3
   },
   "file_extension": ".py",
   "mimetype": "text/x-python",
   "name": "python",
   "nbconvert_exporter": "python",
   "pygments_lexer": "ipython3",
   "version": "3.5.2"
  }
 },
 "nbformat": 4,
 "nbformat_minor": 2
}
