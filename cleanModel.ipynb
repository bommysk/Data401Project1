{
 "cells": [
  {
   "cell_type": "code",
   "execution_count": 7,
   "metadata": {
    "collapsed": false
   },
   "outputs": [],
   "source": [
    "import pandas as pd\n",
    "import scipy\n",
    "from nltk.sentiment.vader import SentimentIntensityAnalyzer;\n",
    "\n",
    "from sklearn.linear_model import LinearRegression\n",
    "from sklearn.linear_model import Lasso\n",
    "\n",
    "from sklearn.model_selection import cross_val_score\n",
    "\n",
    "from sklearn.feature_extraction.text import CountVectorizer\n",
    "from sklearn.feature_extraction.text import TfidfTransformer\n",
    "\n",
    "import nltk.data"
   ]
  },
  {
   "cell_type": "code",
   "execution_count": 3,
   "metadata": {
    "collapsed": true
   },
   "outputs": [],
   "source": [
    "data = pd.read_csv(\"/data/beer/train.csv\")\n",
    "test = pd.read_csv(\"/data/beer/test.csv\")"
   ]
  },
  {
   "cell_type": "code",
   "execution_count": 6,
   "metadata": {
    "collapsed": true
   },
   "outputs": [],
   "source": [
    "sid = SentimentIntensityAnalyzer()\n",
    "sentiment = [sid.polarity_scores(str(review))[\"compound\"] for review in data[\"review/text\"]]"
   ]
  },
  {
   "cell_type": "code",
   "execution_count": 26,
   "metadata": {
    "collapsed": true
   },
   "outputs": [],
   "source": [
    "sid = SentimentIntensityAnalyzer()\n",
    "test_sentiment = [sid.polarity_scores(str(review))[\"compound\"] for review in test[\"review/text\"]]"
   ]
  },
  {
   "cell_type": "code",
   "execution_count": 134,
   "metadata": {
    "collapsed": false
   },
   "outputs": [],
   "source": [
    "# data[\"user/ageInSeconds\"] = data[\"user/ageInSeconds\"].fillna(data['user/ageInSeconds'].mean())\n",
    "# X[\"age\"] = data['user/ageInSeconds'] / (3600 * 24 * 365)"
   ]
  },
  {
   "cell_type": "code",
   "execution_count": 147,
   "metadata": {
    "collapsed": false
   },
   "outputs": [],
   "source": [
    "X[\"sentiment\"] = sentiment\n",
    "X[\"abv\"] = data[\"beer/ABV\"]"
   ]
  },
  {
   "cell_type": "code",
   "execution_count": 10,
   "metadata": {
    "collapsed": true
   },
   "outputs": [],
   "source": [
    "appearanceWords = [\"appearance\", \"character\", \"image\", \"look\", \"presence\", \"presentation\", \"air\", \"attitude\", \"bearing\", \"blind\",\n",
    "              \"carriage\", \"cast\", \"condition\", \"countenance\", \"demeanor\", \"dress\", \"expression\", \"face\", \"fashion\", \"feature\",\n",
    "              \"figure\", \"form\", \"front\", \"guise\", \"looks\", \"manner\", \"mannerism\", \"mien\", \"mode\", \"outline\", \"pose\", \"screen\",\n",
    "              \"semblance\", \"shape\", \"stamp\",'amber','brown','caramel','chocolate','clean','clouded','coffee','creamy','crisp',\n",
    "              'hazy','head','lacing','orange','orangeamber','pour','red','rich', 'ruby','snifterdeep','solid','tan','toast',\n",
    "              'vanilla','white']\n",
    "\n",
    "aromaWords = [\"aroma\", \"bouquet\", \"odor\", \"perfume\", \"scent\", \"spice\", \"balm\", \"fragrance\", \"incense\", \"redolence\", \"smell\",\n",
    "         'burn','candy','coffee','floral','fruity','grapefruity','herbal','lingering','mild','peppery','rich','roasted',\n",
    "         'sharp','skunky','spice','sweet','toast','vanilla']\n",
    "\n",
    "\n",
    "palateWords = [\"palate\", \"bias\", \"partiality\", \"penchant\", \"tendency\", \"attraction\", \"inclination\", \"preference\", \"appetite\", \n",
    "          \"disposition\", \"gusto\", \"zest\", 'bodied','carbonated','crisp','dense','heavy','kick','lingering','rich','sharp',\n",
    "          'smooth','soft']\n",
    "\n",
    "tasteWords = [\"taste\", \"aftertaste\", \"aroma\", \"bang\", \"bitter\", \"drive\", \"ginger\", \"jolt\", \"kick\", \"oomph\", \"palatableness\",\n",
    "         \"piquancy\", \"punch\", \"relish\", \"salt\", \"sapidity\", \"savor\", \"savoriness\", \"smack\", \"sour\", \"sting\", \"suggestion\",\n",
    "         \"sweet\", \"tang\", \"wallop\", \"zest\", \"zing\", \"zip\", \"sapor\", 'absinthe','aftertaste','biscuity','bitterness','bland',\n",
    "         'bold','bourbon','burn', 'candy','caramel','carbonated','coffee','creamy','crisp','dense','floral','hop','kick',\n",
    "         'lingering','malt','mild','peppery','refreshing','rich','roasted','sharp','sour','spice', 'sugar','sweet','tart',\n",
    "         'tangy','vanilla']"
   ]
  },
  {
   "cell_type": "code",
   "execution_count": 16,
   "metadata": {
    "collapsed": false
   },
   "outputs": [],
   "source": [
    "def sentenceSentiment(data):\n",
    "    tokenizer = nltk.data.load('tokenizers/punkt/english.pickle')\n",
    "    sentences = [tokenizer.tokenize(str(review)) for review in data['review/text']]\n",
    "    \n",
    "    aroma = [0 for _ in sentences]\n",
    "    palate = [0 for _ in sentences]\n",
    "    taste = [0 for _ in sentences]\n",
    "    appearance = [0 for _ in sentences]\n",
    "\n",
    "    i = 0\n",
    "    for paragraph in sentences:\n",
    "        aromaCount = 0\n",
    "        palateCount = 0\n",
    "        tasteCount = 0\n",
    "        appearanceCount = 0\n",
    "\n",
    "        for sentence in paragraph:\n",
    "            alphas = ' ' + ''.join(x for x in sentence if x.isalpha() or x == ' ') + ' '\n",
    "            if any(' ' + a + ' ' in alphas for a in aromaWords):\n",
    "                aromaCount += 1\n",
    "                aroma[i] += sid.polarity_scores(sentence)[\"compound\"]\n",
    "            if any(' ' + a + ' ' in alphas for a in palateWords):\n",
    "                palateCount += 1\n",
    "                palate[i] += sid.polarity_scores(sentence)[\"compound\"]\n",
    "            if any(' ' + a + ' ' in alphas for a in tasteWords):\n",
    "                tasteCount += 1\n",
    "                taste[i] += sid.polarity_scores(sentence)[\"compound\"]\n",
    "            if any(' ' + a + ' ' in alphas for a in appearanceWords):\n",
    "                appearanceCount += 1\n",
    "                appearance[i] += sid.polarity_scores(sentence)[\"compound\"]\n",
    "\n",
    "        if aromaCount > 0:\n",
    "            aroma[i] /= aromaCount    \n",
    "        if palateCount > 0:\n",
    "            palate[i] /= palateCount\n",
    "        if tasteCount > 0:\n",
    "            taste[i] /= tasteCount\n",
    "        if appearanceCount > 0:\n",
    "            appearance[i] /= appearanceCount\n",
    "        i += 1\n",
    "        \n",
    "    return {\"appearance\" : appearance, \"aroma\" : aroma, \"palate\" : palate, \"taste\" : taste}"
   ]
  },
  {
   "cell_type": "code",
   "execution_count": 17,
   "metadata": {
    "collapsed": false
   },
   "outputs": [],
   "source": [
    "sentences = sentenceSentiment(data)"
   ]
  },
  {
   "cell_type": "code",
   "execution_count": 19,
   "metadata": {
    "collapsed": true
   },
   "outputs": [],
   "source": [
    "test_sentences = sentenceSentiment(test)"
   ]
  },
  {
   "cell_type": "markdown",
   "metadata": {},
   "source": [
    "review/palate:     0.266360520049\n",
    "review/aroma:      0.27499270306\n",
    "review/taste:      0.277464650465\n",
    "review/appearance: 0.236480775284\n",
    "review/overall:    0.310799823099\n",
    "\n",
    "review/palate:     0.253683886305\n",
    "review/aroma:      0.253140656648\n",
    "review/taste:      0.259079936169\n",
    "review/appearance: 0.2215648635\n",
    "review/overall:    0.298516358874\n",
    "\n",
    "review/palate:     0.253673400152\n",
    "review/aroma:      0.253174497474\n",
    "review/taste:      0.259068148975\n",
    "review/appearance: 0.221632953296\n",
    "review/overall:    0.298497046681\n",
    "\n",
    "review/palate:     0.253498607764\n",
    "review/aroma:      0.251732535731\n",
    "review/taste:      0.257598991441\n",
    "review/appearance: 0.219973970342\n",
    "review/overall:    0.298497046681\n",
    "\n",
    "appearance 0.217367350449\n",
    "aroma 0.246278263103\n",
    "overall 0.291123078719\n",
    "palate 0.248465609238\n",
    "taste 0.249787413555\n",
    "\n",
    "appearance 0.217314205533\n",
    "aroma 0.246408043701\n",
    "overall 0.290893370928\n",
    "palate 0.248406747248\n",
    "taste 0.24962118813"
   ]
  },
  {
   "cell_type": "code",
   "execution_count": 54,
   "metadata": {
    "collapsed": true
   },
   "outputs": [],
   "source": [
    "reviews = [\"appearance\", \"aroma\", \"overall\", \"palate\", \"taste\"]\n",
    "predictions = pd.DataFrame(index = test[\"index\"])\n",
    "mse = {}\n",
    "\n",
    "diff = list(set(pd.get_dummies(data[\"beer/style\"]).columns) - set(pd.get_dummies(test[\"beer/style\"]).columns))\n",
    "\n",
    "# vectorizer = CountVectorizer(ngram_range=(2,2), stop_words=\"english\", max_features=1000)\n",
    "vectorizer = CountVectorizer(stop_words=\"english\", max_features=1000)\n",
    "X_train_counts = vectorizer.fit_transform([str(text) for text in data['review/text']])\n",
    "\n",
    "tf_transformer = TfidfTransformer().fit(X_train_counts)\n",
    "X_tfidf = tf_transformer.transform(X_train_counts)\n",
    "\n",
    "X = pd.DataFrame(X_tfidf.todense())\n",
    "\n",
    "X[\"sentiment\"] = sentiment\n",
    "X[\"abv\"] = data[\"beer/ABV\"]\n",
    "\n",
    "style = pd.get_dummies(data[\"beer/style\"])\n",
    "for col in style:\n",
    "    X[\"style:\" + str(col)] = style[col]\n",
    "\n",
    "for col in diff:\n",
    "    del X[\"style:\" + col]\n",
    "\n",
    "# X_test_counts = vectorizer.transform([str(text) for text in test['review/text']])\n",
    "# X_test_tfidf = tf_transformer.transform(X_test_counts)\n",
    "\n",
    "# X_test = pd.DataFrame(X_test_tfidf.todense())\n",
    "    \n",
    "# X_test[\"sentiment\"] = test_sentiment\n",
    "# X_test[\"abv\"] = test[\"beer/ABV\"]\n",
    "\n",
    "# style = pd.get_dummies(test[\"beer/style\"])\n",
    "# for col in style:\n",
    "#     X_test[\"style:\" + str(col)] = style[col]"
   ]
  },
  {
   "cell_type": "code",
   "execution_count": 36,
   "metadata": {
    "collapsed": false
   },
   "outputs": [
    {
     "name": "stdout",
     "output_type": "stream",
     "text": [
      "appearance    (37500, 1095)\n",
      "aroma         (37500, 1095)\n",
      "overall       (37500, 1094)\n",
      "palate        (37500, 1095)\n",
      "taste         (37500, 1095)\n"
     ]
    },
    {
     "data": {
      "text/plain": [
       "{'appearance': 0.21998901557331241,\n",
       " 'aroma': 0.24597798523763581,\n",
       " 'overall': 0.2914406947853439,\n",
       " 'palate': 0.24921256398604541,\n",
       " 'taste': 0.24866960899616641}"
      ]
     },
     "execution_count": 36,
     "metadata": {},
     "output_type": "execute_result"
    }
   ],
   "source": [
    "for review in reviews:\n",
    "    model = LinearRegression()\n",
    "        \n",
    "    if review != \"overall\":            \n",
    "        X[review] = sentences[review]\n",
    "\n",
    "    X.columns = X.columns.astype(str)\n",
    "    X.sort_index(axis=1, inplace=True)\n",
    "        \n",
    "#     model.fit(X, data[\"review/\"+review])\n",
    "    print(review.ljust(13), X.shape)\n",
    "    mse[review] = -cross_val_score(model, X, data[\"review/\" + review], cv=5, scoring=\"neg_mean_squared_error\").mean()\n",
    "    \n",
    "    if review != \"overall\":            \n",
    "        del X[review]\n",
    "        \n",
    "#     if review != \"overall\":            \n",
    "#         X_test[review] = test_sentences[review]\n",
    "\n",
    "#     X_test.columns = X_test.columns.astype(str)\n",
    "#     X_test.sort_index(axis=1, inplace=True)\n",
    "    \n",
    "#     print(review)\n",
    "#     predictions[\"review/\"+review] = model.predict(X_test)\n",
    "\n",
    "#     if review != \"overall:\n",
    "#         del X_test[review]\n",
    "\n",
    "mse"
   ]
  },
  {
   "cell_type": "code",
   "execution_count": 29,
   "metadata": {
    "collapsed": true
   },
   "outputs": [],
   "source": [
    "predictions.to_csv(\"output.csv\")"
   ]
  },
  {
   "cell_type": "code",
   "execution_count": 44,
   "metadata": {
    "collapsed": true
   },
   "outputs": [],
   "source": [
    "import operator"
   ]
  },
  {
   "cell_type": "code",
   "execution_count": null,
   "metadata": {
    "collapsed": false
   },
   "outputs": [],
   "source": [
    "toAdd = X.columns.tolist()\n",
    "modelCols = []\n",
    "\n",
    "lastScore = 0\n",
    "\n",
    "for _ in range(len(toAdd)):\n",
    "    vals = dict()\n",
    "    \n",
    "    for add in toAdd:\n",
    "        model = LinearRegression()\n",
    "        \n",
    "        X_temp = X[modelCols + [add]]\n",
    "        y = data[\"review/taste\"]\n",
    "        \n",
    "        vals[add] = -cross_val_score(model, X_temp, y, cv=5, scoring=\"neg_mean_squared_error\").mean()\n",
    "\n",
    "    sort = sorted(vals.items(), key=operator.itemgetter(1))[0:50]\n",
    "    \n",
    "    print(\"Best this round:\", sort)\n",
    "\n",
    "    if (lastScore != 0):\n",
    "        improvement = sort[0][1] - lastScore\n",
    "        print(\"Improvement =\", improvement)\n",
    "        if (improvement > 0):\n",
    "            break\n",
    "\n",
    "    for i in sort:\n",
    "        toAdd.remove(i[0])\n",
    "        modelCols.append(i[0])\n",
    "    \n",
    "    lastScore = sort[0][1]\n",
    "    print()\n",
    "    \n",
    "print(\"\\nFinal Model:\", modelCols)"
   ]
  },
  {
   "cell_type": "code",
   "execution_count": null,
   "metadata": {
    "collapsed": true
   },
   "outputs": [],
   "source": []
  }
 ],
 "metadata": {
  "kernelspec": {
   "display_name": "Python 3",
   "language": "python",
   "name": "python3"
  },
  "language_info": {
   "codemirror_mode": {
    "name": "ipython",
    "version": 3
   },
   "file_extension": ".py",
   "mimetype": "text/x-python",
   "name": "python",
   "nbconvert_exporter": "python",
   "pygments_lexer": "ipython3",
   "version": "3.5.2"
  }
 },
 "nbformat": 4,
 "nbformat_minor": 2
}
