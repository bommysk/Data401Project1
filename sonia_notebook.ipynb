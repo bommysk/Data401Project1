{
 "cells": [
  {
   "cell_type": "markdown",
   "metadata": {},
   "source": [
    "#### Questions:\n",
    "#### How to interpret beer style coefficients in the regression model (as one categorical model, do not remove beer styles)\n",
    "#### If we use beer style, should we balance out the samples (remove top 5 and bottom 5 beers) (no)\n",
    "\n",
    "#### Group beer styles by type of yeast used? (ale, lager, hybrid)\n",
    "#### Ales are fermented quicker, are more aromatic, and fruity\n",
    "#### Lagers are fermented slower and at lower temperatures to create a \"hoppy\" taste\n",
    "#### Hybrids are a combination of ale and lager\n",
    "#### https://www.beeradvocate.com/beer/style/\n",
    "\n",
    "#### How to select columns to use in regression? Lasso technique?\n",
    "#### Split sentiment for sentiment by sentence. Find sentences with synonyms for each rating dimension\n",
    "#### create aroma sentiment, appearance sentiment, etc...\n",
    "#### interaction between age and beer style"
   ]
  },
  {
   "cell_type": "code",
   "execution_count": 11,
   "metadata": {
    "collapsed": false
   },
   "outputs": [],
   "source": [
    "import matplotlib.pyplot as plt\n",
    "import numpy as np\n",
    "import pandas as pd\n",
    "import re\n",
    "import string\n",
    "import webcolors\n",
    "\n",
    "from datetime import datetime\n",
    "from sklearn.feature_selection import SelectFromModel\n",
    "from sklearn.feature_extraction.text import CountVectorizer, TfidfTransformer, TfidfVectorizer\n",
    "from sklearn.linear_model import Lasso, LinearRegression\n",
    "from sklearn.metrics import mean_squared_error\n",
    "from sklearn.model_selection import cross_val_score, GridSearchCV, KFold\n",
    "\n",
    "from string import digits\n",
    "from textblob import TextBlob, Word"
   ]
  },
  {
   "cell_type": "markdown",
   "metadata": {},
   "source": [
    "Baseline features\n",
    "1. beer/ABV - the alcohol by volume of the beer\n",
    "2. beer/style\n",
    "3. user's gender\n",
    "4. user's age in years"
   ]
  },
  {
   "cell_type": "markdown",
   "metadata": {},
   "source": [
    "Extra features from review text\n",
    "1. sentiment of the review\n",
    "2. adjectives\n",
    "3. adverbs\n",
    "4. verbs\n",
    "4. colors"
   ]
  },
  {
   "cell_type": "code",
   "execution_count": 12,
   "metadata": {
    "collapsed": false
   },
   "outputs": [],
   "source": [
    "def convertUnixTimeToYears(unixTimes):\n",
    "    ageInYears = []\n",
    "    today = datetime.now()\n",
    "\n",
    "    for age in unixTimes:\n",
    "        birthdate = datetime.fromtimestamp(int(age))\n",
    "        delta = today - birthdate\n",
    "        years = delta.days / 365\n",
    "        ageInYears.append(years)\n",
    "\n",
    "    return (ageInYears)"
   ]
  },
  {
   "cell_type": "code",
   "execution_count": 13,
   "metadata": {
    "collapsed": true
   },
   "outputs": [],
   "source": [
    "def fill_missing_values(df):\n",
    "    df['beer/style'] = df['beer/style'].fillna('missing')\n",
    "    df['review/text'] = df['review/text'].fillna('')\n",
    "    df['user/birthdayUnix'] = df['user/birthdayUnix'].fillna(np.mean(df['user/birthdayUnix']))"
   ]
  },
  {
   "cell_type": "code",
   "execution_count": 14,
   "metadata": {
    "collapsed": true
   },
   "outputs": [],
   "source": [
    "def read_type(filename):\n",
    "    all_ales = []\n",
    "    with open(filename, 'r') as f:\n",
    "        for line in f:\n",
    "            name = line.lower().replace('/','').replace('(','').replace(')','').strip()\n",
    "            name = re.sub(' +',' ',name)\n",
    "            all_ales.append(name)\n",
    "            \n",
    "    return all_ales"
   ]
  },
  {
   "cell_type": "code",
   "execution_count": 15,
   "metadata": {
    "collapsed": false
   },
   "outputs": [],
   "source": [
    "def assign_beer_category(df):\n",
    "    all_ales = read_type('ales.txt')\n",
    "    all_lagers = read_type('lagers.txt')\n",
    "    all_hybrids = read_type('hybrids.txt')\n",
    "\n",
    "    category = []\n",
    "\n",
    "    for style in df['beer/style']:\n",
    "        style = style.lower().replace('/','').replace('(','').replace(')','')\n",
    "        style = re.sub(' +',' ',style)\n",
    "\n",
    "        if style in all_ales:\n",
    "            category.append('ale')\n",
    "\n",
    "        elif style in all_lagers or 'oktoberfest' in style or \\\n",
    "        'keller bier zwickel bier' in style:\n",
    "            category.append('lager')\n",
    "\n",
    "        elif style in all_hybrids:\n",
    "            category.append('hybrid')\n",
    "\n",
    "        else:\n",
    "            category.append('other')\n",
    "\n",
    "    df['beer/category'] = category"
   ]
  },
  {
   "cell_type": "code",
   "execution_count": 16,
   "metadata": {
    "collapsed": true
   },
   "outputs": [],
   "source": [
    "# returns tf-idf vectors (scipy matrix) and tf-idf model (TfidfVectorizer) \n",
    "# for a corpus of words\n",
    "def get_tf_idf_vector(df):\n",
    "    # replace multiple spaces, punctuation, and digits from review words\n",
    "    all_documents = [' '.join([re.sub('\\s+', '', \\\n",
    "        word.strip()).replace(' ','').translate(None, string.punctuation).translate(None, digits) \n",
    "        for word in review.split(' ') \\\n",
    "        if len(word) > 0]) for review in df['review/text']]\n",
    "\n",
    "    # extract vectors\n",
    "    tokenize = lambda doc: doc.lower().split(\" \")\n",
    "    sklearn_tfidf = TfidfVectorizer(norm='l2',min_df=0, use_idf=True, smooth_idf=False, \n",
    "        sublinear_tf=True, tokenizer=tokenize, stop_words='english')\n",
    "    sklearn_representation = sklearn_tfidf.fit_transform(all_documents)  \n",
    "    \n",
    "    return sklearn_tfidf, sklearn_representation"
   ]
  },
  {
   "cell_type": "code",
   "execution_count": 17,
   "metadata": {
    "collapsed": true
   },
   "outputs": [],
   "source": [
    "# creates a vocab of top tf-idf words from a corpus\n",
    "def get_tf_idf_words(df):\n",
    "    sklearn_tfidf, sklearn_representation = get_tf_idf_vector(df)\n",
    "    feature_names = sklearn_tfidf.get_feature_names()\n",
    "    vocab = set()\n",
    "    \n",
    "    for i in range(len(all_documents)):\n",
    "        tags = TextBlob(all_documents[i]).tags\n",
    "\n",
    "        feature_index = sklearn_representation[i,:].nonzero()[1]\n",
    "        tfidf_scores = zip(feature_index, np.sort([sklearn_representation[i, x] for x in feature_index])[::-1][:5])\n",
    "\n",
    "        for w, s in [(feature_names[i], s) for (i, s) in tfidf_scores]:\n",
    "            for tag in tags:\n",
    "                if w == tag[0] and (tag[1] == 'JJ' or tag[1] == 'NN'):\n",
    "                    vocab.add(w)\n",
    "                    \n",
    "    return vocab"
   ]
  },
  {
   "cell_type": "code",
   "execution_count": 18,
   "metadata": {
    "collapsed": true
   },
   "outputs": [],
   "source": [
    "# extract average sentiment by sentence\n",
    "def extract_sentiment(corpus):\n",
    "    sentiment = []\n",
    "    \n",
    "    for text in corpus:\n",
    "        curr = []\n",
    "        sentences = TextBlob(text).sentences\n",
    "        \n",
    "        for sentence in sentences:\n",
    "            curr.append(sentence.sentiment.polarity)\n",
    "            \n",
    "        if len(curr) == 0:\n",
    "            curr.append(TextBlob(text).sentiment.polarity)\n",
    "            \n",
    "        sentiment.append(np.mean(curr))\n",
    "    \n",
    "    return sentiment"
   ]
  },
  {
   "cell_type": "code",
   "execution_count": 19,
   "metadata": {
    "collapsed": true
   },
   "outputs": [],
   "source": [
    "# extract average sentiment by sentence\n",
    "def extract_overall_sentiment(corpus):\n",
    "    sentiment = []\n",
    "    \n",
    "    for text in corpus:\n",
    "        sentiment.append(TextBlob(text).polarity)\n",
    "    \n",
    "    return sentiment"
   ]
  },
  {
   "cell_type": "code",
   "execution_count": 20,
   "metadata": {
    "collapsed": true
   },
   "outputs": [],
   "source": [
    "def format_predictions(X, df, ratings, Xtest, ytest):\n",
    "    for rating in ratings:\n",
    "        y = df[rating]\n",
    "        reg = LinearRegression()\n",
    "        reg.fit(X, y)\n",
    "        ytest[rating] = reg.predict(Xtest)\n",
    "        \n",
    "    return result"
   ]
  },
  {
   "cell_type": "code",
   "execution_count": 21,
   "metadata": {
    "collapsed": true
   },
   "outputs": [],
   "source": [
    "# removes rows containing beer styles from train that are not in test\n",
    "def remove_different_styles(train, test):\n",
    "    testStyles = test['beer/style'].unique()\n",
    "    trainStyles = train['beer/style'].unique()\n",
    "    diffStyles = np.setdiff1d(trainStyles, testStyles)\n",
    "    train = train[~train['beer/style'].isin(diffStyles)]\n",
    "    \n",
    "    return train"
   ]
  },
  {
   "cell_type": "code",
   "execution_count": 22,
   "metadata": {
    "collapsed": true
   },
   "outputs": [],
   "source": [
    "def bag_of_words(data):\n",
    "    vectorizer = CountVectorizer(stop_words=\"english\", max_features=1000)\n",
    "    X_train_counts = vectorizer.fit_transform([str(text) for text in data['review/text']])\n",
    "\n",
    "    tf_transformer = TfidfTransformer().fit(X_train_counts)\n",
    "    X_tfidf = tf_transformer.transform(X_train_counts)\n",
    "\n",
    "    X = pd.DataFrame(X_tfidf.todense())\n",
    "    \n",
    "    return X"
   ]
  },
  {
   "cell_type": "code",
   "execution_count": 35,
   "metadata": {
    "collapsed": true
   },
   "outputs": [],
   "source": [
    "# extracts user's age in years and review polarity from dataset\n",
    "def extract_features(df, y, cols_keep, alpha=0.001):\n",
    "    fill_missing_values(df)\n",
    "    df = df[cols_keep]\n",
    "    \n",
    "    X = bag_of_words(df)\n",
    "    X['sentence_polarity'] = extract_sentiment(df['review/text'])\n",
    "    X['review_polarity'] = extract_overall_sentiment(df['review/text'])\n",
    "    X['beer/style'] = df['beer/style']\n",
    "    X['beer/ABV'] = df['beer/ABV']\n",
    "    fill_missing_values(X)\n",
    "    \n",
    "    tmp = pd.get_dummies(X, columns=[\"beer/style\"], prefix=[\"style\"])\n",
    "    select_features(X, tmp, y, alpha)\n",
    "    \n",
    "    X = pd.get_dummies(X, columns=[\"beer/style\"], prefix=[\"style\"])\n",
    "    \n",
    "    return X"
   ]
  },
  {
   "cell_type": "code",
   "execution_count": 24,
   "metadata": {
    "collapsed": true
   },
   "outputs": [],
   "source": [
    "def select_features_from_lasso(X, y, alpha):\n",
    "    # fit lasso model and pass to select from model\n",
    "    lasso = Lasso(alpha).fit(X, y)\n",
    "    model = SelectFromModel(lasso, prefit=True)\n",
    "\n",
    "    # new features\n",
    "    X_new = model.transform(X)\n",
    "    return X.columns[model.get_support()]"
   ]
  },
  {
   "cell_type": "code",
   "execution_count": 25,
   "metadata": {
    "collapsed": true
   },
   "outputs": [],
   "source": [
    "def select_features(df, X, y, alpha):\n",
    "    feat = select_features_from_lasso(X, y, alpha)\n",
    "    \n",
    "    styles = []\n",
    "    categories = []\n",
    "    words = []\n",
    "    \n",
    "    for col in feat:\n",
    "        if 'style_' in col:\n",
    "            styles.append(col.replace('style_',''))\n",
    "            \n",
    "        if 'category_' in col:\n",
    "            categories.append(col.replace('category_',''))\n",
    "            \n",
    "        if col.isdigit():\n",
    "            words.append(col)\n",
    "            \n",
    "    for col in df.columns:\n",
    "        if col.isdigit() and col not in words:\n",
    "            df = df.drop([col], axis = 1)\n",
    "    \n",
    "    df['beer/category'][~(df['beer/category'].isin(categories))] = 'other'\n",
    "    df['beer/style'][~(df['beer/style'].isin(styles))] = 'other'\n",
    "    \n",
    "    return df"
   ]
  },
  {
   "cell_type": "code",
   "execution_count": null,
   "metadata": {
    "collapsed": false,
    "scrolled": false
   },
   "outputs": [],
   "source": [
    "df = pd.DataFrame.from_csv('train.csv')\n",
    "X = extract_features(df, df[ratings], cols_keep, alpha = 1)\n",
    "X.head()"
   ]
  },
  {
   "cell_type": "code",
   "execution_count": 26,
   "metadata": {
    "collapsed": false
   },
   "outputs": [
    {
     "data": {
      "text/plain": [
       "37500"
      ]
     },
     "execution_count": 26,
     "metadata": {},
     "output_type": "execute_result"
    }
   ],
   "source": [
    "df = pd.DataFrame.from_csv('train.csv')\n",
    "ratings = ['review/appearance','review/aroma','review/overall','review/palate','review/taste']\n",
    "cols_keep = ['beer/style', 'user/birthdayUnix', 'review/text', 'beer/ABV']\n",
    "len(df)"
   ]
  },
  {
   "cell_type": "code",
   "execution_count": 14,
   "metadata": {
    "collapsed": false
   },
   "outputs": [
    {
     "data": {
      "text/plain": [
       "37500"
      ]
     },
     "execution_count": 14,
     "metadata": {},
     "output_type": "execute_result"
    }
   ],
   "source": [
    "fill_missing_values(df)\n",
    "len(df)"
   ]
  },
  {
   "cell_type": "markdown",
   "metadata": {},
   "source": [
    "### Convert beer style to numerical features via one-hot encoding\n",
    "#### 96 features used"
   ]
  },
  {
   "cell_type": "code",
   "execution_count": 15,
   "metadata": {
    "collapsed": false
   },
   "outputs": [],
   "source": [
    "df['userAgeInYears'] = convertUnixTimeToYears(df['user/birthdayUnix'])\n",
    "X = df[[\"beer/style\", 'beer/ABV', 'userAgeInYears']]\n",
    "X = pd.get_dummies(X, columns=[\"beer/style\"], prefix=[\"style\"])"
   ]
  },
  {
   "cell_type": "code",
   "execution_count": 16,
   "metadata": {
    "collapsed": false
   },
   "outputs": [
    {
     "data": {
      "text/html": [
       "<div>\n",
       "<table border=\"1\" class=\"dataframe\">\n",
       "  <thead>\n",
       "    <tr style=\"text-align: right;\">\n",
       "      <th></th>\n",
       "      <th>beer/ABV</th>\n",
       "      <th>userAgeInYears</th>\n",
       "      <th>style_Altbier</th>\n",
       "      <th>style_American Adjunct Lager</th>\n",
       "      <th>style_American Amber / Red Ale</th>\n",
       "      <th>style_American Amber / Red Lager</th>\n",
       "      <th>style_American Barleywine</th>\n",
       "      <th>style_American Black Ale</th>\n",
       "      <th>style_American Blonde Ale</th>\n",
       "      <th>style_American Brown Ale</th>\n",
       "      <th>...</th>\n",
       "      <th>style_Scotch Ale / Wee Heavy</th>\n",
       "      <th>style_Scottish Ale</th>\n",
       "      <th>style_Scottish Gruit / Ancient Herbed Ale</th>\n",
       "      <th>style_Smoked Beer</th>\n",
       "      <th>style_Tripel</th>\n",
       "      <th>style_Vienna Lager</th>\n",
       "      <th>style_Weizenbock</th>\n",
       "      <th>style_Wheatwine</th>\n",
       "      <th>style_Winter Warmer</th>\n",
       "      <th>style_Witbier</th>\n",
       "    </tr>\n",
       "    <tr>\n",
       "      <th>index</th>\n",
       "      <th></th>\n",
       "      <th></th>\n",
       "      <th></th>\n",
       "      <th></th>\n",
       "      <th></th>\n",
       "      <th></th>\n",
       "      <th></th>\n",
       "      <th></th>\n",
       "      <th></th>\n",
       "      <th></th>\n",
       "      <th></th>\n",
       "      <th></th>\n",
       "      <th></th>\n",
       "      <th></th>\n",
       "      <th></th>\n",
       "      <th></th>\n",
       "      <th></th>\n",
       "      <th></th>\n",
       "      <th></th>\n",
       "      <th></th>\n",
       "      <th></th>\n",
       "    </tr>\n",
       "  </thead>\n",
       "  <tbody>\n",
       "    <tr>\n",
       "      <th>40163</th>\n",
       "      <td>5.0</td>\n",
       "      <td>40</td>\n",
       "      <td>0.0</td>\n",
       "      <td>0.0</td>\n",
       "      <td>0.0</td>\n",
       "      <td>0.0</td>\n",
       "      <td>0.0</td>\n",
       "      <td>0.0</td>\n",
       "      <td>0.0</td>\n",
       "      <td>0.0</td>\n",
       "      <td>...</td>\n",
       "      <td>0.0</td>\n",
       "      <td>0.0</td>\n",
       "      <td>0.0</td>\n",
       "      <td>0.0</td>\n",
       "      <td>0.0</td>\n",
       "      <td>0.0</td>\n",
       "      <td>0.0</td>\n",
       "      <td>0.0</td>\n",
       "      <td>0.0</td>\n",
       "      <td>0.0</td>\n",
       "    </tr>\n",
       "    <tr>\n",
       "      <th>8135</th>\n",
       "      <td>11.0</td>\n",
       "      <td>40</td>\n",
       "      <td>0.0</td>\n",
       "      <td>0.0</td>\n",
       "      <td>0.0</td>\n",
       "      <td>0.0</td>\n",
       "      <td>1.0</td>\n",
       "      <td>0.0</td>\n",
       "      <td>0.0</td>\n",
       "      <td>0.0</td>\n",
       "      <td>...</td>\n",
       "      <td>0.0</td>\n",
       "      <td>0.0</td>\n",
       "      <td>0.0</td>\n",
       "      <td>0.0</td>\n",
       "      <td>0.0</td>\n",
       "      <td>0.0</td>\n",
       "      <td>0.0</td>\n",
       "      <td>0.0</td>\n",
       "      <td>0.0</td>\n",
       "      <td>0.0</td>\n",
       "    </tr>\n",
       "    <tr>\n",
       "      <th>10529</th>\n",
       "      <td>4.7</td>\n",
       "      <td>40</td>\n",
       "      <td>0.0</td>\n",
       "      <td>0.0</td>\n",
       "      <td>0.0</td>\n",
       "      <td>0.0</td>\n",
       "      <td>0.0</td>\n",
       "      <td>0.0</td>\n",
       "      <td>0.0</td>\n",
       "      <td>0.0</td>\n",
       "      <td>...</td>\n",
       "      <td>0.0</td>\n",
       "      <td>0.0</td>\n",
       "      <td>0.0</td>\n",
       "      <td>0.0</td>\n",
       "      <td>0.0</td>\n",
       "      <td>0.0</td>\n",
       "      <td>0.0</td>\n",
       "      <td>0.0</td>\n",
       "      <td>0.0</td>\n",
       "      <td>0.0</td>\n",
       "    </tr>\n",
       "    <tr>\n",
       "      <th>44610</th>\n",
       "      <td>4.4</td>\n",
       "      <td>41</td>\n",
       "      <td>0.0</td>\n",
       "      <td>0.0</td>\n",
       "      <td>0.0</td>\n",
       "      <td>0.0</td>\n",
       "      <td>0.0</td>\n",
       "      <td>0.0</td>\n",
       "      <td>0.0</td>\n",
       "      <td>0.0</td>\n",
       "      <td>...</td>\n",
       "      <td>0.0</td>\n",
       "      <td>0.0</td>\n",
       "      <td>0.0</td>\n",
       "      <td>0.0</td>\n",
       "      <td>0.0</td>\n",
       "      <td>0.0</td>\n",
       "      <td>0.0</td>\n",
       "      <td>0.0</td>\n",
       "      <td>0.0</td>\n",
       "      <td>0.0</td>\n",
       "    </tr>\n",
       "    <tr>\n",
       "      <th>37062</th>\n",
       "      <td>4.4</td>\n",
       "      <td>40</td>\n",
       "      <td>0.0</td>\n",
       "      <td>0.0</td>\n",
       "      <td>0.0</td>\n",
       "      <td>0.0</td>\n",
       "      <td>0.0</td>\n",
       "      <td>0.0</td>\n",
       "      <td>0.0</td>\n",
       "      <td>0.0</td>\n",
       "      <td>...</td>\n",
       "      <td>0.0</td>\n",
       "      <td>0.0</td>\n",
       "      <td>0.0</td>\n",
       "      <td>0.0</td>\n",
       "      <td>0.0</td>\n",
       "      <td>0.0</td>\n",
       "      <td>0.0</td>\n",
       "      <td>0.0</td>\n",
       "      <td>0.0</td>\n",
       "      <td>0.0</td>\n",
       "    </tr>\n",
       "  </tbody>\n",
       "</table>\n",
       "<p>5 rows × 97 columns</p>\n",
       "</div>"
      ],
      "text/plain": [
       "       beer/ABV  userAgeInYears  style_Altbier  style_American Adjunct Lager  \\\n",
       "index                                                                          \n",
       "40163       5.0              40            0.0                           0.0   \n",
       "8135       11.0              40            0.0                           0.0   \n",
       "10529       4.7              40            0.0                           0.0   \n",
       "44610       4.4              41            0.0                           0.0   \n",
       "37062       4.4              40            0.0                           0.0   \n",
       "\n",
       "       style_American Amber / Red Ale  style_American Amber / Red Lager  \\\n",
       "index                                                                     \n",
       "40163                             0.0                               0.0   \n",
       "8135                              0.0                               0.0   \n",
       "10529                             0.0                               0.0   \n",
       "44610                             0.0                               0.0   \n",
       "37062                             0.0                               0.0   \n",
       "\n",
       "       style_American Barleywine  style_American Black Ale  \\\n",
       "index                                                        \n",
       "40163                        0.0                       0.0   \n",
       "8135                         1.0                       0.0   \n",
       "10529                        0.0                       0.0   \n",
       "44610                        0.0                       0.0   \n",
       "37062                        0.0                       0.0   \n",
       "\n",
       "       style_American Blonde Ale  style_American Brown Ale      ...        \\\n",
       "index                                                           ...         \n",
       "40163                        0.0                       0.0      ...         \n",
       "8135                         0.0                       0.0      ...         \n",
       "10529                        0.0                       0.0      ...         \n",
       "44610                        0.0                       0.0      ...         \n",
       "37062                        0.0                       0.0      ...         \n",
       "\n",
       "       style_Scotch Ale / Wee Heavy  style_Scottish Ale  \\\n",
       "index                                                     \n",
       "40163                           0.0                 0.0   \n",
       "8135                            0.0                 0.0   \n",
       "10529                           0.0                 0.0   \n",
       "44610                           0.0                 0.0   \n",
       "37062                           0.0                 0.0   \n",
       "\n",
       "       style_Scottish Gruit / Ancient Herbed Ale  style_Smoked Beer  \\\n",
       "index                                                                 \n",
       "40163                                        0.0                0.0   \n",
       "8135                                         0.0                0.0   \n",
       "10529                                        0.0                0.0   \n",
       "44610                                        0.0                0.0   \n",
       "37062                                        0.0                0.0   \n",
       "\n",
       "       style_Tripel  style_Vienna Lager  style_Weizenbock  style_Wheatwine  \\\n",
       "index                                                                        \n",
       "40163           0.0                 0.0               0.0              0.0   \n",
       "8135            0.0                 0.0               0.0              0.0   \n",
       "10529           0.0                 0.0               0.0              0.0   \n",
       "44610           0.0                 0.0               0.0              0.0   \n",
       "37062           0.0                 0.0               0.0              0.0   \n",
       "\n",
       "       style_Winter Warmer  style_Witbier  \n",
       "index                                      \n",
       "40163                  0.0            0.0  \n",
       "8135                   0.0            0.0  \n",
       "10529                  0.0            0.0  \n",
       "44610                  0.0            0.0  \n",
       "37062                  0.0            0.0  \n",
       "\n",
       "[5 rows x 97 columns]"
      ]
     },
     "execution_count": 16,
     "metadata": {},
     "output_type": "execute_result"
    }
   ],
   "source": [
    "X.head()"
   ]
  },
  {
   "cell_type": "markdown",
   "metadata": {},
   "source": [
    "#### simple linear regression on each rating with 5-fold cross validation\n",
    "#### score results via negative mean squared error"
   ]
  },
  {
   "cell_type": "code",
   "execution_count": 18,
   "metadata": {
    "collapsed": false
   },
   "outputs": [
    {
     "name": "stdout",
     "output_type": "stream",
     "text": [
      "{'review/appearance': -0.26254842658791933, 'review/taste': -0.36146235792824416, 'review/palate': -0.32955588074837056, 'review/overall': -0.40436346160060266, 'review/aroma': -0.31103058294692559}\n"
     ]
    }
   ],
   "source": [
    "results = {}\n",
    "for rating in ratings:\n",
    "    reg = LinearRegression()\n",
    "    scores = cross_val_score(reg, X, df[rating], cv=5, scoring='neg_mean_squared_error')\n",
    "    results[rating] = np.mean(scores)\n",
    "\n",
    "print (results)"
   ]
  },
  {
   "cell_type": "markdown",
   "metadata": {},
   "source": [
    "#### Add review sentiments to features\n",
    "#### polarity = how positive, neutral, or negative the review is\n",
    "#### subjectivity = how biased the review is "
   ]
  },
  {
   "cell_type": "code",
   "execution_count": 20,
   "metadata": {
    "collapsed": false
   },
   "outputs": [],
   "source": [
    "X['review_polarity'] = extract_sentiment(df['review/text'])"
   ]
  },
  {
   "cell_type": "code",
   "execution_count": null,
   "metadata": {
    "collapsed": false
   },
   "outputs": [],
   "source": [
    "X.head()"
   ]
  },
  {
   "cell_type": "markdown",
   "metadata": {},
   "source": [
    "#### Evaluate model with five-fold cross validation"
   ]
  },
  {
   "cell_type": "code",
   "execution_count": null,
   "metadata": {
    "collapsed": false
   },
   "outputs": [],
   "source": [
    "results = {}\n",
    "for rating in ratings:\n",
    "    reg = LinearRegression()\n",
    "    scores = cross_val_score(reg, X, base[rating], cv=5, scoring='neg_mean_squared_error')\n",
    "    results[rating] = np.mean(scores)\n",
    "\n",
    "print (results)"
   ]
  },
  {
   "cell_type": "markdown",
   "metadata": {},
   "source": [
    "#### Add an interaction between age and beer style"
   ]
  },
  {
   "cell_type": "code",
   "execution_count": null,
   "metadata": {
    "collapsed": false
   },
   "outputs": [],
   "source": [
    "X['style/interaction'] = X['userAgeInYears']"
   ]
  },
  {
   "cell_type": "code",
   "execution_count": null,
   "metadata": {
    "collapsed": false
   },
   "outputs": [],
   "source": [
    "results = {}\n",
    "for rating in ratings:\n",
    "    reg = LinearRegression()\n",
    "    scores = cross_val_score(reg, X, base[rating], cv=5, scoring='neg_mean_squared_error')\n",
    "    results[rating] = np.mean(scores)\n",
    "\n",
    "print (results)"
   ]
  },
  {
   "cell_type": "markdown",
   "metadata": {},
   "source": [
    "#### Assign beer styles to categories: ale, lager, hybrid, or other and add to feature set\n",
    "#### See whether or not categorizing the beers will improve rating prediction accuracy\n",
    "#### Adding categories did not improve MSE"
   ]
  },
  {
   "cell_type": "code",
   "execution_count": null,
   "metadata": {
    "collapsed": false
   },
   "outputs": [],
   "source": [
    "assign_beer_category(df)\n",
    "X['beer/category'] = df['beer/category']\n",
    "X = pd.get_dummies(X, columns=[\"beer/category\"], prefix=[\"style\"])\n",
    "X.head()"
   ]
  },
  {
   "cell_type": "code",
   "execution_count": null,
   "metadata": {
    "collapsed": false
   },
   "outputs": [],
   "source": [
    "results = {}\n",
    "for rating in ratings:\n",
    "    reg = LinearRegression()\n",
    "    scores = cross_val_score(reg, X, base[rating], cv=5, scoring='neg_mean_squared_error')\n",
    "    results[rating] = np.mean(scores)\n",
    "\n",
    "print (results)"
   ]
  },
  {
   "cell_type": "markdown",
   "metadata": {},
   "source": [
    "#### output predictions on testing set"
   ]
  },
  {
   "cell_type": "code",
   "execution_count": 106,
   "metadata": {
    "collapsed": false,
    "scrolled": true
   },
   "outputs": [
    {
     "name": "stderr",
     "output_type": "stream",
     "text": [
      "/anaconda/lib/python2.7/site-packages/ipykernel/__main__.py:5: SettingWithCopyWarning: \n",
      "A value is trying to be set on a copy of a slice from a DataFrame.\n",
      "Try using .loc[row_indexer,col_indexer] = value instead\n",
      "\n",
      "See the caveats in the documentation: http://pandas.pydata.org/pandas-docs/stable/indexing.html#indexing-view-versus-copy\n",
      "/anaconda/lib/python2.7/site-packages/ipykernel/__main__.py:6: SettingWithCopyWarning: \n",
      "A value is trying to be set on a copy of a slice from a DataFrame.\n",
      "Try using .loc[row_indexer,col_indexer] = value instead\n",
      "\n",
      "See the caveats in the documentation: http://pandas.pydata.org/pandas-docs/stable/indexing.html#indexing-view-versus-copy\n",
      "/anaconda/lib/python2.7/site-packages/ipykernel/__main__.py:7: SettingWithCopyWarning: \n",
      "A value is trying to be set on a copy of a slice from a DataFrame.\n",
      "Try using .loc[row_indexer,col_indexer] = value instead\n",
      "\n",
      "See the caveats in the documentation: http://pandas.pydata.org/pandas-docs/stable/indexing.html#indexing-view-versus-copy\n",
      "/anaconda/lib/python2.7/site-packages/ipykernel/__main__.py:24: SettingWithCopyWarning: \n",
      "A value is trying to be set on a copy of a slice from a DataFrame.\n",
      "Try using .loc[row_indexer,col_indexer] = value instead\n",
      "\n",
      "See the caveats in the documentation: http://pandas.pydata.org/pandas-docs/stable/indexing.html#indexing-view-versus-copy\n",
      "/anaconda/lib/python2.7/site-packages/ipykernel/__main__.py:14: SettingWithCopyWarning: \n",
      "A value is trying to be set on a copy of a slice from a DataFrame\n",
      "\n",
      "See the caveats in the documentation: http://pandas.pydata.org/pandas-docs/stable/indexing.html#indexing-view-versus-copy\n",
      "/anaconda/lib/python2.7/site-packages/ipykernel/__main__.py:15: SettingWithCopyWarning: \n",
      "A value is trying to be set on a copy of a slice from a DataFrame\n",
      "\n",
      "See the caveats in the documentation: http://pandas.pydata.org/pandas-docs/stable/indexing.html#indexing-view-versus-copy\n"
     ]
    },
    {
     "name": "stdout",
     "output_type": "stream",
     "text": [
      "       beer/ABV  userAgeInYears  review_polarity  style/interaction  \\\n",
      "index                                                                 \n",
      "40163       5.0              40        -0.049583                 40   \n",
      "8135       11.0              40         0.151150                 40   \n",
      "10529       4.7              40         0.217778                 40   \n",
      "44610       4.4              41         0.227381                 41   \n",
      "37062       4.4              40         0.347628                 40   \n",
      "\n",
      "       style_American Adjunct Lager  style_American Amber / Red Ale  \\\n",
      "index                                                                 \n",
      "40163                           0.0                             0.0   \n",
      "8135                            0.0                             0.0   \n",
      "10529                           0.0                             0.0   \n",
      "44610                           0.0                             0.0   \n",
      "37062                           0.0                             0.0   \n",
      "\n",
      "       style_American Blonde Ale  style_American Double / Imperial IPA  \\\n",
      "index                                                                    \n",
      "40163                        0.0                                   0.0   \n",
      "8135                         0.0                                   0.0   \n",
      "10529                        0.0                                   0.0   \n",
      "44610                        0.0                                   0.0   \n",
      "37062                        0.0                                   0.0   \n",
      "\n",
      "       style_American Double / Imperial Stout  style_American IPA  \\\n",
      "index                                                               \n",
      "40163                                     0.0                 0.0   \n",
      "8135                                      0.0                 0.0   \n",
      "10529                                     0.0                 0.0   \n",
      "44610                                     0.0                 0.0   \n",
      "37062                                     0.0                 0.0   \n",
      "\n",
      "            ...        style_Munich Helles Lager  style_Pumpkin Ale  \\\n",
      "index       ...                                                       \n",
      "40163       ...                              0.0                0.0   \n",
      "8135        ...                              0.0                0.0   \n",
      "10529       ...                              0.0                0.0   \n",
      "44610       ...                              0.0                0.0   \n",
      "37062       ...                              0.0                0.0   \n",
      "\n",
      "       style_Rauchbier  style_Russian Imperial Stout  style_Rye Beer  \\\n",
      "index                                                                  \n",
      "40163              0.0                           0.0             0.0   \n",
      "8135               0.0                           0.0             0.0   \n",
      "10529              0.0                           0.0             0.0   \n",
      "44610              0.0                           0.0             0.0   \n",
      "37062              0.0                           0.0             0.0   \n",
      "\n",
      "       style_Scotch Ale / Wee Heavy  style_other  category_ale  \\\n",
      "index                                                            \n",
      "40163                           0.0          1.0           0.0   \n",
      "8135                            0.0          1.0           1.0   \n",
      "10529                           0.0          1.0           1.0   \n",
      "44610                           0.0          1.0           0.0   \n",
      "37062                           0.0          1.0           1.0   \n",
      "\n",
      "       category_hybrid  category_other  \n",
      "index                                   \n",
      "40163              1.0             0.0  \n",
      "8135               0.0             0.0  \n",
      "10529              0.0             0.0  \n",
      "44610              0.0             1.0  \n",
      "37062              0.0             0.0  \n",
      "\n",
      "[5 rows x 30 columns]\n",
      "       beer/ABV  userAgeInYears  review_polarity  style/interaction  \\\n",
      "index                                                                 \n",
      "40163       5.0              40        -0.049583                 40   \n",
      "8135       11.0              40         0.151150                 40   \n",
      "10529       4.7              40         0.217778                 40   \n",
      "44610       4.4              41         0.227381                 41   \n",
      "37062       4.4              40         0.347628                 40   \n",
      "\n",
      "       style_American Adjunct Lager  style_American Amber / Red Ale  \\\n",
      "index                                                                 \n",
      "40163                           0.0                             0.0   \n",
      "8135                            0.0                             0.0   \n",
      "10529                           0.0                             0.0   \n",
      "44610                           0.0                             0.0   \n",
      "37062                           0.0                             0.0   \n",
      "\n",
      "       style_American Blonde Ale  style_American Double / Imperial IPA  \\\n",
      "index                                                                    \n",
      "40163                        0.0                                   0.0   \n",
      "8135                         0.0                                   0.0   \n",
      "10529                        0.0                                   0.0   \n",
      "44610                        0.0                                   0.0   \n",
      "37062                        0.0                                   0.0   \n",
      "\n",
      "       style_American Double / Imperial Stout  style_American IPA  \\\n",
      "index                                                               \n",
      "40163                                     0.0                 0.0   \n",
      "8135                                      0.0                 0.0   \n",
      "10529                                     0.0                 0.0   \n",
      "44610                                     0.0                 0.0   \n",
      "37062                                     0.0                 0.0   \n",
      "\n",
      "            ...        style_Munich Helles Lager  style_Old Ale  \\\n",
      "index       ...                                                   \n",
      "40163       ...                              0.0            0.0   \n",
      "8135        ...                              0.0            0.0   \n",
      "10529       ...                              0.0            0.0   \n",
      "44610       ...                              0.0            0.0   \n",
      "37062       ...                              0.0            0.0   \n",
      "\n",
      "       style_Rauchbier  style_Russian Imperial Stout  style_Rye Beer  \\\n",
      "index                                                                  \n",
      "40163              0.0                           0.0             0.0   \n",
      "8135               0.0                           0.0             0.0   \n",
      "10529              0.0                           0.0             0.0   \n",
      "44610              0.0                           0.0             0.0   \n",
      "37062              0.0                           0.0             0.0   \n",
      "\n",
      "       style_Scotch Ale / Wee Heavy  style_other  category_ale  \\\n",
      "index                                                            \n",
      "40163                           0.0          1.0           0.0   \n",
      "8135                            0.0          1.0           1.0   \n",
      "10529                           0.0          0.0           1.0   \n",
      "44610                           0.0          1.0           0.0   \n",
      "37062                           0.0          0.0           1.0   \n",
      "\n",
      "       category_lager  category_other  \n",
      "index                                  \n",
      "40163             0.0             1.0  \n",
      "8135              0.0             0.0  \n",
      "10529             0.0             0.0  \n",
      "44610             1.0             0.0  \n",
      "37062             0.0             0.0  \n",
      "\n",
      "[5 rows x 35 columns]\n",
      "       beer/ABV  userAgeInYears  review_polarity  style/interaction  \\\n",
      "index                                                                 \n",
      "40163       5.0              40        -0.049583                 40   \n",
      "8135       11.0              40         0.151150                 40   \n",
      "10529       4.7              40         0.217778                 40   \n",
      "44610       4.4              41         0.227381                 41   \n",
      "37062       4.4              40         0.347628                 40   \n",
      "\n",
      "       style_American Adjunct Lager  style_American Amber / Red Ale  \\\n",
      "index                                                                 \n",
      "40163                           0.0                             0.0   \n",
      "8135                            0.0                             0.0   \n",
      "10529                           0.0                             0.0   \n",
      "44610                           0.0                             0.0   \n",
      "37062                           0.0                             0.0   \n",
      "\n",
      "       style_American Blonde Ale  style_American Double / Imperial Stout  \\\n",
      "index                                                                      \n",
      "40163                        0.0                                     0.0   \n",
      "8135                         0.0                                     0.0   \n",
      "10529                        0.0                                     0.0   \n",
      "44610                        0.0                                     0.0   \n",
      "37062                        0.0                                     0.0   \n",
      "\n",
      "       style_American IPA  style_American Malt Liquor       ...        \\\n",
      "index                                                       ...         \n",
      "40163                 0.0                         0.0       ...         \n",
      "8135                  0.0                         0.0       ...         \n",
      "10529                 0.0                         0.0       ...         \n",
      "44610                 0.0                         0.0       ...         \n",
      "37062                 0.0                         0.0       ...         \n",
      "\n",
      "       style_Old Ale  style_Rauchbier  style_Russian Imperial Stout  \\\n",
      "index                                                                 \n",
      "40163            0.0              0.0                           0.0   \n",
      "8135             0.0              0.0                           0.0   \n",
      "10529            0.0              0.0                           0.0   \n",
      "44610            0.0              0.0                           0.0   \n",
      "37062            0.0              0.0                           0.0   \n",
      "\n",
      "       style_Rye Beer  style_Scotch Ale / Wee Heavy  style_Winter Warmer  \\\n",
      "index                                                                      \n",
      "40163             0.0                           0.0                  0.0   \n",
      "8135              0.0                           0.0                  0.0   \n",
      "10529             0.0                           0.0                  0.0   \n",
      "44610             0.0                           0.0                  0.0   \n",
      "37062             0.0                           0.0                  0.0   \n",
      "\n",
      "       style_other  category_ale  category_hybrid  category_other  \n",
      "index                                                              \n",
      "40163          1.0           0.0              1.0             0.0  \n",
      "8135           1.0           1.0              0.0             0.0  \n",
      "10529          0.0           1.0              0.0             0.0  \n",
      "44610          0.0           0.0              0.0             1.0  \n",
      "37062          0.0           1.0              0.0             0.0  \n",
      "\n",
      "[5 rows x 35 columns]\n",
      "       beer/ABV  userAgeInYears  review_polarity  style/interaction  \\\n",
      "index                                                                 \n",
      "40163       5.0              40        -0.049583                 40   \n",
      "8135       11.0              40         0.151150                 40   \n",
      "10529       4.7              40         0.217778                 40   \n",
      "44610       4.4              41         0.227381                 41   \n",
      "37062       4.4              40         0.347628                 40   \n",
      "\n",
      "       style_American Adjunct Lager  style_American Amber / Red Ale  \\\n",
      "index                                                                 \n",
      "40163                           0.0                             0.0   \n",
      "8135                            0.0                             0.0   \n",
      "10529                           0.0                             0.0   \n",
      "44610                           0.0                             0.0   \n",
      "37062                           0.0                             0.0   \n",
      "\n",
      "       style_American Blonde Ale  style_American Double / Imperial IPA  \\\n",
      "index                                                                    \n",
      "40163                        0.0                                   0.0   \n",
      "8135                         0.0                                   0.0   \n",
      "10529                        0.0                                   0.0   \n",
      "44610                        0.0                                   0.0   \n",
      "37062                        0.0                                   0.0   \n",
      "\n",
      "       style_American Double / Imperial Stout  style_American IPA  \\\n",
      "index                                                               \n",
      "40163                                     0.0                 0.0   \n",
      "8135                                      0.0                 0.0   \n",
      "10529                                     0.0                 0.0   \n",
      "44610                                     0.0                 0.0   \n",
      "37062                                     0.0                 0.0   \n",
      "\n",
      "            ...        style_Munich Helles Lager  style_Old Ale  \\\n",
      "index       ...                                                   \n",
      "40163       ...                              0.0            0.0   \n",
      "8135        ...                              0.0            0.0   \n",
      "10529       ...                              0.0            0.0   \n",
      "44610       ...                              0.0            0.0   \n",
      "37062       ...                              0.0            0.0   \n",
      "\n",
      "       style_Rauchbier  style_Russian Imperial Stout  style_Rye Beer  \\\n",
      "index                                                                  \n",
      "40163              0.0                           0.0             0.0   \n",
      "8135               0.0                           0.0             0.0   \n",
      "10529              0.0                           0.0             0.0   \n",
      "44610              0.0                           0.0             0.0   \n",
      "37062              0.0                           0.0             0.0   \n",
      "\n",
      "       style_Scotch Ale / Wee Heavy  style_other  category_ale  \\\n",
      "index                                                            \n",
      "40163                           0.0          1.0           0.0   \n",
      "8135                            0.0          1.0           1.0   \n",
      "10529                           0.0          1.0           1.0   \n",
      "44610                           0.0          0.0           0.0   \n",
      "37062                           0.0          0.0           1.0   \n",
      "\n",
      "       category_hybrid  category_other  \n",
      "index                                   \n",
      "40163              1.0             0.0  \n",
      "8135               0.0             0.0  \n",
      "10529              0.0             0.0  \n",
      "44610              0.0             1.0  \n",
      "37062              0.0             0.0  \n",
      "\n",
      "[5 rows x 32 columns]\n",
      "       beer/ABV  userAgeInYears  review_polarity  style/interaction  \\\n",
      "index                                                                 \n",
      "40163       5.0              40        -0.049583                 40   \n",
      "8135       11.0              40         0.151150                 40   \n",
      "10529       4.7              40         0.217778                 40   \n",
      "44610       4.4              41         0.227381                 41   \n",
      "37062       4.4              40         0.347628                 40   \n",
      "\n",
      "       style_American Adjunct Lager  style_American Amber / Red Ale  \\\n",
      "index                                                                 \n",
      "40163                           0.0                             0.0   \n",
      "8135                            0.0                             0.0   \n",
      "10529                           0.0                             0.0   \n",
      "44610                           0.0                             0.0   \n",
      "37062                           0.0                             0.0   \n",
      "\n",
      "       style_American Blonde Ale  style_American Double / Imperial Stout  \\\n",
      "index                                                                      \n",
      "40163                        0.0                                     0.0   \n",
      "8135                         0.0                                     0.0   \n",
      "10529                        0.0                                     0.0   \n",
      "44610                        0.0                                     0.0   \n",
      "37062                        0.0                                     0.0   \n",
      "\n",
      "       style_American IPA  style_American Malt Liquor       ...        \\\n",
      "index                                                       ...         \n",
      "40163                 0.0                         0.0       ...         \n",
      "8135                  0.0                         0.0       ...         \n",
      "10529                 0.0                         0.0       ...         \n",
      "44610                 0.0                         0.0       ...         \n",
      "37062                 0.0                         0.0       ...         \n",
      "\n",
      "       style_Light Lager  style_Munich Helles Lager  style_Old Ale  \\\n",
      "index                                                                \n",
      "40163                0.0                        0.0            0.0   \n",
      "8135                 0.0                        0.0            0.0   \n",
      "10529                0.0                        0.0            0.0   \n",
      "44610                0.0                        0.0            0.0   \n",
      "37062                0.0                        0.0            0.0   \n",
      "\n",
      "       style_Rauchbier  style_Russian Imperial Stout  style_Rye Beer  \\\n",
      "index                                                                  \n",
      "40163              0.0                           0.0             0.0   \n",
      "8135               0.0                           0.0             0.0   \n",
      "10529              0.0                           0.0             0.0   \n",
      "44610              0.0                           0.0             0.0   \n",
      "37062              0.0                           0.0             0.0   \n",
      "\n",
      "       style_Scotch Ale / Wee Heavy  style_other  category_ale  category_other  \n",
      "index                                                                           \n",
      "40163                           0.0          1.0           0.0             1.0  \n",
      "8135                            0.0          1.0           1.0             0.0  \n",
      "10529                           0.0          0.0           1.0             0.0  \n",
      "44610                           0.0          0.0           0.0             1.0  \n",
      "37062                           0.0          0.0           1.0             0.0  \n",
      "\n",
      "[5 rows x 32 columns]\n",
      "{'review/appearance': -0.25354702938424173, 'review/taste': -0.32385651787629632, 'review/palate': -0.30249688342219044, 'review/overall': -0.362681218830533, 'review/aroma': -0.28944653538170195}\n"
     ]
    }
   ],
   "source": [
    "results = {}\n",
    "\n",
    "for rating in ratings:\n",
    "    df = pd.DataFrame.from_csv('train.csv')\n",
    "    ytrain = df[ratings][rating]\n",
    "    \n",
    "    Xtrain = extract_features(df, ytrain, cols_keep)\n",
    "    \n",
    "    reg = LinearRegression()\n",
    "    scores = cross_val_score(reg, Xtrain, ytrain, cv=5, scoring='neg_mean_squared_error')\n",
    "    results[rating] = np.mean(scores)\n",
    "    \n",
    "print results"
   ]
  },
  {
   "cell_type": "code",
   "execution_count": null,
   "metadata": {
    "collapsed": false
   },
   "outputs": [],
   "source": [
    "format_predictions(Xtrain, ytrain, ratings, Xtest, ytest)\n",
    "ytest.to_csv('results.csv')"
   ]
  },
  {
   "cell_type": "code",
   "execution_count": null,
   "metadata": {
    "collapsed": true
   },
   "outputs": [],
   "source": [
    "805-714-7899"
   ]
  }
 ],
 "metadata": {
  "anaconda-cloud": {},
  "kernelspec": {
   "display_name": "Python [conda root]",
   "language": "python",
   "name": "conda-root-py"
  },
  "language_info": {
   "codemirror_mode": {
    "name": "ipython",
    "version": 2
   },
   "file_extension": ".py",
   "mimetype": "text/x-python",
   "name": "python",
   "nbconvert_exporter": "python",
   "pygments_lexer": "ipython2",
   "version": "2.7.12"
  }
 },
 "nbformat": 4,
 "nbformat_minor": 1
}
