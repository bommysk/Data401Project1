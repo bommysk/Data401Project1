{
 "cells": [
  {
   "cell_type": "markdown",
   "metadata": {},
   "source": [
    "#### Questions:\n",
    "#### How to interpret beer style coefficients in the regression model (as one categorical model, do not remove beer styles)\n",
    "#### If we use beer style, should we balance out the samples (remove top 5 and bottom 5 beers) (no)\n",
    "\n",
    "#### Group beer styles by type of yeast used? (ale, lager, hybrid)\n",
    "#### Ales are fermented quicker, are more aromatic, and fruity\n",
    "#### Lagers are fermented slower and at lower temperatures to create a \"hoppy\" taste\n",
    "#### Hybrids are a combination of ale and lager\n",
    "#### https://www.beeradvocate.com/beer/style/\n",
    "\n",
    "#### How to select columns to use in regression? Lasso technique?\n",
    "#### Split sentiment for sentiment by sentence. Find sentences with synonyms for each rating dimension\n",
    "#### create aroma sentiment, appearance sentiment, etc...\n",
    "#### interaction between age and beer style"
   ]
  },
  {
   "cell_type": "code",
   "execution_count": 1,
   "metadata": {
    "collapsed": false
   },
   "outputs": [
    {
     "name": "stderr",
     "output_type": "stream",
     "text": [
      "//anaconda/lib/python2.7/site-packages/matplotlib/font_manager.py:273: UserWarning: Matplotlib is building the font cache using fc-list. This may take a moment.\n",
      "  warnings.warn('Matplotlib is building the font cache using fc-list. This may take a moment.')\n"
     ]
    }
   ],
   "source": [
    "import matplotlib.pyplot as plt\n",
    "import numpy as np\n",
    "import pandas as pd\n",
    "import re\n",
    "import webcolors\n",
    "\n",
    "from datetime import datetime\n",
    "from sklearn.feature_selection import SelectFromModel\n",
    "from sklearn.linear_model import Lasso, LinearRegression\n",
    "from sklearn.metrics import mean_squared_error\n",
    "from sklearn.model_selection import cross_val_score, GridSearchCV, KFold\n",
    "\n",
    "from textblob import TextBlob, Word"
   ]
  },
  {
   "cell_type": "markdown",
   "metadata": {},
   "source": [
    "Baseline features\n",
    "1. beer/ABV - the alcohol by volume of the beer\n",
    "2. beer/style\n",
    "3. user's gender\n",
    "4. user's age in years"
   ]
  },
  {
   "cell_type": "markdown",
   "metadata": {},
   "source": [
    "Extra features from review text\n",
    "1. sentiment of the review\n",
    "2. adjectives\n",
    "3. adverbs\n",
    "4. verbs\n",
    "4. colors"
   ]
  },
  {
   "cell_type": "markdown",
   "metadata": {},
   "source": [
    "#### Filling in missing values \n",
    "#### birthdays use average age\n",
    "#### beer style use an empty string\n",
    "#### review/text use an empty string"
   ]
  },
  {
   "cell_type": "code",
   "execution_count": 2,
   "metadata": {
    "collapsed": false
   },
   "outputs": [],
   "source": [
    "def convertUnixTimeToYears(unixTimes):\n",
    "    ageInYears = []\n",
    "    today = datetime.now()\n",
    "\n",
    "    for age in unixTimes:\n",
    "        birthdate = datetime.fromtimestamp(int(age))\n",
    "        delta = today - birthdate\n",
    "        years = delta.days / 365\n",
    "        ageInYears.append(years)\n",
    "\n",
    "    return (ageInYears)"
   ]
  },
  {
   "cell_type": "code",
   "execution_count": 3,
   "metadata": {
    "collapsed": true
   },
   "outputs": [],
   "source": [
    "def fill_missing_values(df):\n",
    "    df['beer/style'] = df['beer/style'].fillna('missing')\n",
    "    df['review/text'] = df['review/text'].fillna('')\n",
    "    df['user/birthdayUnix'] = df['user/birthdayUnix'].fillna(np.mean(df['user/birthdayUnix']))"
   ]
  },
  {
   "cell_type": "code",
   "execution_count": 4,
   "metadata": {
    "collapsed": true
   },
   "outputs": [],
   "source": [
    "def read_type(filename):\n",
    "    all_ales = []\n",
    "    with open(filename, 'r') as f:\n",
    "        for line in f:\n",
    "            name = line.lower().replace('/','').replace('(','').replace(')','').strip()\n",
    "            name = re.sub(' +',' ',name)\n",
    "            all_ales.append(name)\n",
    "            \n",
    "    return all_ales"
   ]
  },
  {
   "cell_type": "code",
   "execution_count": 5,
   "metadata": {
    "collapsed": false
   },
   "outputs": [],
   "source": [
    "def assign_beer_category(df):\n",
    "    all_ales = read_type('ales.txt')\n",
    "    all_lagers = read_type('lagers.txt')\n",
    "    all_hybrids = read_type('hybrids.txt')\n",
    "\n",
    "    category = []\n",
    "\n",
    "    for style in df['beer/style']:\n",
    "        style = style.lower().replace('/','').replace('(','').replace(')','')\n",
    "        style = re.sub(' +',' ',style)\n",
    "\n",
    "        if style in all_ales:\n",
    "            category.append('ale')\n",
    "\n",
    "        elif style in all_lagers or 'oktoberfest' in style or \\\n",
    "        'keller bier zwickel bier' in style:\n",
    "            category.append('lager')\n",
    "\n",
    "        elif style in all_hybrids:\n",
    "            category.append('hybrid')\n",
    "\n",
    "        else:\n",
    "            category.append('other')\n",
    "\n",
    "    df['beer/category'] = category"
   ]
  },
  {
   "cell_type": "code",
   "execution_count": 178,
   "metadata": {
    "collapsed": true
   },
   "outputs": [],
   "source": [
    "# extract average sentiment by sentence\n",
    "def extract_sentiment(corpus):\n",
    "    sentiment = []\n",
    "    \n",
    "    for text in corpus:\n",
    "        curr = []\n",
    "        sentences = TextBlob(text).sentences\n",
    "        \n",
    "        for sentence in sentences:\n",
    "            curr.append(sentence.sentiment.polarity)\n",
    "            \n",
    "        if len(curr) == 0:\n",
    "            curr.append(TextBlob(text).sentiment.polarity)\n",
    "            \n",
    "        sentiment.append(np.mean(curr))\n",
    "    \n",
    "    return sentiment"
   ]
  },
  {
   "cell_type": "code",
   "execution_count": 198,
   "metadata": {
    "collapsed": true
   },
   "outputs": [],
   "source": [
    "def format_predictions(X, df, ratings, Xtest, ytest):\n",
    "    for rating in ratings:\n",
    "        y = df[rating]\n",
    "        reg = LinearRegression()\n",
    "        reg.fit(X, y)\n",
    "        ytest[rating] = reg.predict(Xtest)\n",
    "        \n",
    "    return result"
   ]
  },
  {
   "cell_type": "code",
   "execution_count": 122,
   "metadata": {
    "collapsed": true
   },
   "outputs": [],
   "source": [
    "# removes rows containing beer styles from train that are not in test\n",
    "def remove_different_styles(train, test):\n",
    "    testStyles = test['beer/style'].unique()\n",
    "    trainStyles = train['beer/style'].unique()\n",
    "    diffStyles = np.setdiff1d(trainStyles, testStyles)\n",
    "    train = train[~train['beer/style'].isin(diffStyles)]\n",
    "    \n",
    "    return train"
   ]
  },
  {
   "cell_type": "code",
   "execution_count": 164,
   "metadata": {
    "collapsed": true
   },
   "outputs": [],
   "source": [
    "# extracts user's age in years and review polarity from dataset\n",
    "def extract_features(df, cols_keep):\n",
    "    fill_missing_values(df)\n",
    "    df = df[cols_keep]\n",
    "    df['userAgeInYears'] = convertUnixTimeToYears(df['user/birthdayUnix'])\n",
    "    df['review_polarity'] = extract_sentiment(df['review/text'])\n",
    "    df['style/interaction'] = df['userAgeInYears']\n",
    "    assign_beer_category(df)\n",
    "    \n",
    "    df = pd.get_dummies(df, columns=[\"beer/style\", \"beer/category\"], prefix=[\"style\", \"category\"])\n",
    "    df = df.drop(['user/birthdayUnix','review/text'], axis = 1)\n",
    "    \n",
    "    return df"
   ]
  },
  {
   "cell_type": "code",
   "execution_count": 87,
   "metadata": {
    "collapsed": false
   },
   "outputs": [
    {
     "data": {
      "text/plain": [
       "37500"
      ]
     },
     "execution_count": 87,
     "metadata": {},
     "output_type": "execute_result"
    }
   ],
   "source": [
    "df = pd.DataFrame.from_csv('train.csv')\n",
    "ratings = ['review/appearance','review/aroma','review/overall','review/palate','review/taste']\n",
    "cols_keep = ['beer/style', 'user/birthdayUnix', 'review/text', 'beer/ABV']\n",
    "len(df)"
   ]
  },
  {
   "cell_type": "code",
   "execution_count": 7,
   "metadata": {
    "collapsed": false
   },
   "outputs": [
    {
     "data": {
      "text/plain": [
       "37500"
      ]
     },
     "execution_count": 7,
     "metadata": {},
     "output_type": "execute_result"
    }
   ],
   "source": [
    "fill_missing_values(df)\n",
    "len(df)"
   ]
  },
  {
   "cell_type": "markdown",
   "metadata": {},
   "source": [
    "### Convert beer style to numerical features via one-hot encoding\n",
    "#### 96 features used"
   ]
  },
  {
   "cell_type": "code",
   "execution_count": 15,
   "metadata": {
    "collapsed": false
   },
   "outputs": [],
   "source": [
    "X = df[[\"beer/style\", 'beer/ABV', 'userAgeInYears']]\n",
    "X = pd.get_dummies(X, columns=[\"beer/style\"], prefix=[\"style\"])"
   ]
  },
  {
   "cell_type": "code",
   "execution_count": 16,
   "metadata": {
    "collapsed": false
   },
   "outputs": [
    {
     "data": {
      "text/html": [
       "<div>\n",
       "<table border=\"1\" class=\"dataframe\">\n",
       "  <thead>\n",
       "    <tr style=\"text-align: right;\">\n",
       "      <th></th>\n",
       "      <th>beer/ABV</th>\n",
       "      <th>userAgeInYears</th>\n",
       "      <th>style_Altbier</th>\n",
       "      <th>style_American Adjunct Lager</th>\n",
       "      <th>style_American Amber / Red Ale</th>\n",
       "      <th>style_American Amber / Red Lager</th>\n",
       "      <th>style_American Barleywine</th>\n",
       "      <th>style_American Black Ale</th>\n",
       "      <th>style_American Blonde Ale</th>\n",
       "      <th>style_American Brown Ale</th>\n",
       "      <th>...</th>\n",
       "      <th>style_Scotch Ale / Wee Heavy</th>\n",
       "      <th>style_Scottish Ale</th>\n",
       "      <th>style_Scottish Gruit / Ancient Herbed Ale</th>\n",
       "      <th>style_Smoked Beer</th>\n",
       "      <th>style_Tripel</th>\n",
       "      <th>style_Vienna Lager</th>\n",
       "      <th>style_Weizenbock</th>\n",
       "      <th>style_Wheatwine</th>\n",
       "      <th>style_Winter Warmer</th>\n",
       "      <th>style_Witbier</th>\n",
       "    </tr>\n",
       "    <tr>\n",
       "      <th>index</th>\n",
       "      <th></th>\n",
       "      <th></th>\n",
       "      <th></th>\n",
       "      <th></th>\n",
       "      <th></th>\n",
       "      <th></th>\n",
       "      <th></th>\n",
       "      <th></th>\n",
       "      <th></th>\n",
       "      <th></th>\n",
       "      <th></th>\n",
       "      <th></th>\n",
       "      <th></th>\n",
       "      <th></th>\n",
       "      <th></th>\n",
       "      <th></th>\n",
       "      <th></th>\n",
       "      <th></th>\n",
       "      <th></th>\n",
       "      <th></th>\n",
       "      <th></th>\n",
       "    </tr>\n",
       "  </thead>\n",
       "  <tbody>\n",
       "    <tr>\n",
       "      <th>40163</th>\n",
       "      <td>5.0</td>\n",
       "      <td>40</td>\n",
       "      <td>0.0</td>\n",
       "      <td>0.0</td>\n",
       "      <td>0.0</td>\n",
       "      <td>0.0</td>\n",
       "      <td>0.0</td>\n",
       "      <td>0.0</td>\n",
       "      <td>0.0</td>\n",
       "      <td>0.0</td>\n",
       "      <td>...</td>\n",
       "      <td>0.0</td>\n",
       "      <td>0.0</td>\n",
       "      <td>0.0</td>\n",
       "      <td>0.0</td>\n",
       "      <td>0.0</td>\n",
       "      <td>0.0</td>\n",
       "      <td>0.0</td>\n",
       "      <td>0.0</td>\n",
       "      <td>0.0</td>\n",
       "      <td>0.0</td>\n",
       "    </tr>\n",
       "    <tr>\n",
       "      <th>8135</th>\n",
       "      <td>11.0</td>\n",
       "      <td>40</td>\n",
       "      <td>0.0</td>\n",
       "      <td>0.0</td>\n",
       "      <td>0.0</td>\n",
       "      <td>0.0</td>\n",
       "      <td>1.0</td>\n",
       "      <td>0.0</td>\n",
       "      <td>0.0</td>\n",
       "      <td>0.0</td>\n",
       "      <td>...</td>\n",
       "      <td>0.0</td>\n",
       "      <td>0.0</td>\n",
       "      <td>0.0</td>\n",
       "      <td>0.0</td>\n",
       "      <td>0.0</td>\n",
       "      <td>0.0</td>\n",
       "      <td>0.0</td>\n",
       "      <td>0.0</td>\n",
       "      <td>0.0</td>\n",
       "      <td>0.0</td>\n",
       "    </tr>\n",
       "    <tr>\n",
       "      <th>10529</th>\n",
       "      <td>4.7</td>\n",
       "      <td>40</td>\n",
       "      <td>0.0</td>\n",
       "      <td>0.0</td>\n",
       "      <td>0.0</td>\n",
       "      <td>0.0</td>\n",
       "      <td>0.0</td>\n",
       "      <td>0.0</td>\n",
       "      <td>0.0</td>\n",
       "      <td>0.0</td>\n",
       "      <td>...</td>\n",
       "      <td>0.0</td>\n",
       "      <td>0.0</td>\n",
       "      <td>0.0</td>\n",
       "      <td>0.0</td>\n",
       "      <td>0.0</td>\n",
       "      <td>0.0</td>\n",
       "      <td>0.0</td>\n",
       "      <td>0.0</td>\n",
       "      <td>0.0</td>\n",
       "      <td>0.0</td>\n",
       "    </tr>\n",
       "    <tr>\n",
       "      <th>44610</th>\n",
       "      <td>4.4</td>\n",
       "      <td>41</td>\n",
       "      <td>0.0</td>\n",
       "      <td>0.0</td>\n",
       "      <td>0.0</td>\n",
       "      <td>0.0</td>\n",
       "      <td>0.0</td>\n",
       "      <td>0.0</td>\n",
       "      <td>0.0</td>\n",
       "      <td>0.0</td>\n",
       "      <td>...</td>\n",
       "      <td>0.0</td>\n",
       "      <td>0.0</td>\n",
       "      <td>0.0</td>\n",
       "      <td>0.0</td>\n",
       "      <td>0.0</td>\n",
       "      <td>0.0</td>\n",
       "      <td>0.0</td>\n",
       "      <td>0.0</td>\n",
       "      <td>0.0</td>\n",
       "      <td>0.0</td>\n",
       "    </tr>\n",
       "    <tr>\n",
       "      <th>37062</th>\n",
       "      <td>4.4</td>\n",
       "      <td>40</td>\n",
       "      <td>0.0</td>\n",
       "      <td>0.0</td>\n",
       "      <td>0.0</td>\n",
       "      <td>0.0</td>\n",
       "      <td>0.0</td>\n",
       "      <td>0.0</td>\n",
       "      <td>0.0</td>\n",
       "      <td>0.0</td>\n",
       "      <td>...</td>\n",
       "      <td>0.0</td>\n",
       "      <td>0.0</td>\n",
       "      <td>0.0</td>\n",
       "      <td>0.0</td>\n",
       "      <td>0.0</td>\n",
       "      <td>0.0</td>\n",
       "      <td>0.0</td>\n",
       "      <td>0.0</td>\n",
       "      <td>0.0</td>\n",
       "      <td>0.0</td>\n",
       "    </tr>\n",
       "  </tbody>\n",
       "</table>\n",
       "<p>5 rows × 96 columns</p>\n",
       "</div>"
      ],
      "text/plain": [
       "       beer/ABV  userAgeInYears  style_Altbier  style_American Adjunct Lager  \\\n",
       "index                                                                          \n",
       "40163       5.0              40            0.0                           0.0   \n",
       "8135       11.0              40            0.0                           0.0   \n",
       "10529       4.7              40            0.0                           0.0   \n",
       "44610       4.4              41            0.0                           0.0   \n",
       "37062       4.4              40            0.0                           0.0   \n",
       "\n",
       "       style_American Amber / Red Ale  style_American Amber / Red Lager  \\\n",
       "index                                                                     \n",
       "40163                             0.0                               0.0   \n",
       "8135                              0.0                               0.0   \n",
       "10529                             0.0                               0.0   \n",
       "44610                             0.0                               0.0   \n",
       "37062                             0.0                               0.0   \n",
       "\n",
       "       style_American Barleywine  style_American Black Ale  \\\n",
       "index                                                        \n",
       "40163                        0.0                       0.0   \n",
       "8135                         1.0                       0.0   \n",
       "10529                        0.0                       0.0   \n",
       "44610                        0.0                       0.0   \n",
       "37062                        0.0                       0.0   \n",
       "\n",
       "       style_American Blonde Ale  style_American Brown Ale      ...        \\\n",
       "index                                                           ...         \n",
       "40163                        0.0                       0.0      ...         \n",
       "8135                         0.0                       0.0      ...         \n",
       "10529                        0.0                       0.0      ...         \n",
       "44610                        0.0                       0.0      ...         \n",
       "37062                        0.0                       0.0      ...         \n",
       "\n",
       "       style_Scotch Ale / Wee Heavy  style_Scottish Ale  \\\n",
       "index                                                     \n",
       "40163                           0.0                 0.0   \n",
       "8135                            0.0                 0.0   \n",
       "10529                           0.0                 0.0   \n",
       "44610                           0.0                 0.0   \n",
       "37062                           0.0                 0.0   \n",
       "\n",
       "       style_Scottish Gruit / Ancient Herbed Ale  style_Smoked Beer  \\\n",
       "index                                                                 \n",
       "40163                                        0.0                0.0   \n",
       "8135                                         0.0                0.0   \n",
       "10529                                        0.0                0.0   \n",
       "44610                                        0.0                0.0   \n",
       "37062                                        0.0                0.0   \n",
       "\n",
       "       style_Tripel  style_Vienna Lager  style_Weizenbock  style_Wheatwine  \\\n",
       "index                                                                        \n",
       "40163           0.0                 0.0               0.0              0.0   \n",
       "8135            0.0                 0.0               0.0              0.0   \n",
       "10529           0.0                 0.0               0.0              0.0   \n",
       "44610           0.0                 0.0               0.0              0.0   \n",
       "37062           0.0                 0.0               0.0              0.0   \n",
       "\n",
       "       style_Winter Warmer  style_Witbier  \n",
       "index                                      \n",
       "40163                  0.0            0.0  \n",
       "8135                   0.0            0.0  \n",
       "10529                  0.0            0.0  \n",
       "44610                  0.0            0.0  \n",
       "37062                  0.0            0.0  \n",
       "\n",
       "[5 rows x 96 columns]"
      ]
     },
     "execution_count": 16,
     "metadata": {},
     "output_type": "execute_result"
    }
   ],
   "source": [
    "X.head()"
   ]
  },
  {
   "cell_type": "markdown",
   "metadata": {},
   "source": [
    "#### simple linear regression on each rating with 5-fold cross validation\n",
    "#### score results via negative mean squared error"
   ]
  },
  {
   "cell_type": "code",
   "execution_count": 17,
   "metadata": {
    "collapsed": false
   },
   "outputs": [
    {
     "name": "stdout",
     "output_type": "stream",
     "text": [
      "{'review/appearance': -0.26220314119076804, 'review/taste': -0.36117809090072489, 'review/palate': -0.32917508759985198, 'review/overall': -0.40413812207636352, 'review/aroma': -0.31070561244745604}\n"
     ]
    }
   ],
   "source": [
    "results = {}\n",
    "for rating in ratings:\n",
    "    reg = LinearRegression()\n",
    "    scores = cross_val_score(reg, X, base[rating], cv=5, scoring='neg_mean_squared_error')\n",
    "    results[rating] = np.mean(scores)\n",
    "\n",
    "print (results)"
   ]
  },
  {
   "cell_type": "markdown",
   "metadata": {},
   "source": [
    "#### Add review sentiments to features\n",
    "#### polarity = how positive, neutral, or negative the review is\n",
    "#### subjectivity = how biased the review is "
   ]
  },
  {
   "cell_type": "code",
   "execution_count": 19,
   "metadata": {
    "collapsed": false
   },
   "outputs": [],
   "source": [
    "X['review_polarity'] = extract_sentiment(base['review/text'])"
   ]
  },
  {
   "cell_type": "code",
   "execution_count": 20,
   "metadata": {
    "collapsed": false
   },
   "outputs": [
    {
     "data": {
      "text/html": [
       "<div>\n",
       "<table border=\"1\" class=\"dataframe\">\n",
       "  <thead>\n",
       "    <tr style=\"text-align: right;\">\n",
       "      <th></th>\n",
       "      <th>beer/ABV</th>\n",
       "      <th>userAgeInYears</th>\n",
       "      <th>style_Altbier</th>\n",
       "      <th>style_American Adjunct Lager</th>\n",
       "      <th>style_American Amber / Red Ale</th>\n",
       "      <th>style_American Amber / Red Lager</th>\n",
       "      <th>style_American Barleywine</th>\n",
       "      <th>style_American Black Ale</th>\n",
       "      <th>style_American Blonde Ale</th>\n",
       "      <th>style_American Brown Ale</th>\n",
       "      <th>...</th>\n",
       "      <th>style_Scottish Ale</th>\n",
       "      <th>style_Scottish Gruit / Ancient Herbed Ale</th>\n",
       "      <th>style_Smoked Beer</th>\n",
       "      <th>style_Tripel</th>\n",
       "      <th>style_Vienna Lager</th>\n",
       "      <th>style_Weizenbock</th>\n",
       "      <th>style_Wheatwine</th>\n",
       "      <th>style_Winter Warmer</th>\n",
       "      <th>style_Witbier</th>\n",
       "      <th>review_polarity</th>\n",
       "    </tr>\n",
       "    <tr>\n",
       "      <th>index</th>\n",
       "      <th></th>\n",
       "      <th></th>\n",
       "      <th></th>\n",
       "      <th></th>\n",
       "      <th></th>\n",
       "      <th></th>\n",
       "      <th></th>\n",
       "      <th></th>\n",
       "      <th></th>\n",
       "      <th></th>\n",
       "      <th></th>\n",
       "      <th></th>\n",
       "      <th></th>\n",
       "      <th></th>\n",
       "      <th></th>\n",
       "      <th></th>\n",
       "      <th></th>\n",
       "      <th></th>\n",
       "      <th></th>\n",
       "      <th></th>\n",
       "      <th></th>\n",
       "    </tr>\n",
       "  </thead>\n",
       "  <tbody>\n",
       "    <tr>\n",
       "      <th>40163</th>\n",
       "      <td>5.0</td>\n",
       "      <td>40</td>\n",
       "      <td>0.0</td>\n",
       "      <td>0.0</td>\n",
       "      <td>0.0</td>\n",
       "      <td>0.0</td>\n",
       "      <td>0.0</td>\n",
       "      <td>0.0</td>\n",
       "      <td>0.0</td>\n",
       "      <td>0.0</td>\n",
       "      <td>...</td>\n",
       "      <td>0.0</td>\n",
       "      <td>0.0</td>\n",
       "      <td>0.0</td>\n",
       "      <td>0.0</td>\n",
       "      <td>0.0</td>\n",
       "      <td>0.0</td>\n",
       "      <td>0.0</td>\n",
       "      <td>0.0</td>\n",
       "      <td>0.0</td>\n",
       "      <td>-0.017014</td>\n",
       "    </tr>\n",
       "    <tr>\n",
       "      <th>8135</th>\n",
       "      <td>11.0</td>\n",
       "      <td>40</td>\n",
       "      <td>0.0</td>\n",
       "      <td>0.0</td>\n",
       "      <td>0.0</td>\n",
       "      <td>0.0</td>\n",
       "      <td>1.0</td>\n",
       "      <td>0.0</td>\n",
       "      <td>0.0</td>\n",
       "      <td>0.0</td>\n",
       "      <td>...</td>\n",
       "      <td>0.0</td>\n",
       "      <td>0.0</td>\n",
       "      <td>0.0</td>\n",
       "      <td>0.0</td>\n",
       "      <td>0.0</td>\n",
       "      <td>0.0</td>\n",
       "      <td>0.0</td>\n",
       "      <td>0.0</td>\n",
       "      <td>0.0</td>\n",
       "      <td>0.124208</td>\n",
       "    </tr>\n",
       "    <tr>\n",
       "      <th>10529</th>\n",
       "      <td>4.7</td>\n",
       "      <td>40</td>\n",
       "      <td>0.0</td>\n",
       "      <td>0.0</td>\n",
       "      <td>0.0</td>\n",
       "      <td>0.0</td>\n",
       "      <td>0.0</td>\n",
       "      <td>0.0</td>\n",
       "      <td>0.0</td>\n",
       "      <td>0.0</td>\n",
       "      <td>...</td>\n",
       "      <td>0.0</td>\n",
       "      <td>0.0</td>\n",
       "      <td>0.0</td>\n",
       "      <td>0.0</td>\n",
       "      <td>0.0</td>\n",
       "      <td>0.0</td>\n",
       "      <td>0.0</td>\n",
       "      <td>0.0</td>\n",
       "      <td>0.0</td>\n",
       "      <td>0.241389</td>\n",
       "    </tr>\n",
       "    <tr>\n",
       "      <th>44610</th>\n",
       "      <td>4.4</td>\n",
       "      <td>41</td>\n",
       "      <td>0.0</td>\n",
       "      <td>0.0</td>\n",
       "      <td>0.0</td>\n",
       "      <td>0.0</td>\n",
       "      <td>0.0</td>\n",
       "      <td>0.0</td>\n",
       "      <td>0.0</td>\n",
       "      <td>0.0</td>\n",
       "      <td>...</td>\n",
       "      <td>0.0</td>\n",
       "      <td>0.0</td>\n",
       "      <td>0.0</td>\n",
       "      <td>0.0</td>\n",
       "      <td>0.0</td>\n",
       "      <td>0.0</td>\n",
       "      <td>0.0</td>\n",
       "      <td>0.0</td>\n",
       "      <td>0.0</td>\n",
       "      <td>0.272917</td>\n",
       "    </tr>\n",
       "    <tr>\n",
       "      <th>37062</th>\n",
       "      <td>4.4</td>\n",
       "      <td>40</td>\n",
       "      <td>0.0</td>\n",
       "      <td>0.0</td>\n",
       "      <td>0.0</td>\n",
       "      <td>0.0</td>\n",
       "      <td>0.0</td>\n",
       "      <td>0.0</td>\n",
       "      <td>0.0</td>\n",
       "      <td>0.0</td>\n",
       "      <td>...</td>\n",
       "      <td>0.0</td>\n",
       "      <td>0.0</td>\n",
       "      <td>0.0</td>\n",
       "      <td>0.0</td>\n",
       "      <td>0.0</td>\n",
       "      <td>0.0</td>\n",
       "      <td>0.0</td>\n",
       "      <td>0.0</td>\n",
       "      <td>0.0</td>\n",
       "      <td>0.292449</td>\n",
       "    </tr>\n",
       "  </tbody>\n",
       "</table>\n",
       "<p>5 rows × 97 columns</p>\n",
       "</div>"
      ],
      "text/plain": [
       "       beer/ABV  userAgeInYears  style_Altbier  style_American Adjunct Lager  \\\n",
       "index                                                                          \n",
       "40163       5.0              40            0.0                           0.0   \n",
       "8135       11.0              40            0.0                           0.0   \n",
       "10529       4.7              40            0.0                           0.0   \n",
       "44610       4.4              41            0.0                           0.0   \n",
       "37062       4.4              40            0.0                           0.0   \n",
       "\n",
       "       style_American Amber / Red Ale  style_American Amber / Red Lager  \\\n",
       "index                                                                     \n",
       "40163                             0.0                               0.0   \n",
       "8135                              0.0                               0.0   \n",
       "10529                             0.0                               0.0   \n",
       "44610                             0.0                               0.0   \n",
       "37062                             0.0                               0.0   \n",
       "\n",
       "       style_American Barleywine  style_American Black Ale  \\\n",
       "index                                                        \n",
       "40163                        0.0                       0.0   \n",
       "8135                         1.0                       0.0   \n",
       "10529                        0.0                       0.0   \n",
       "44610                        0.0                       0.0   \n",
       "37062                        0.0                       0.0   \n",
       "\n",
       "       style_American Blonde Ale  style_American Brown Ale       ...         \\\n",
       "index                                                            ...          \n",
       "40163                        0.0                       0.0       ...          \n",
       "8135                         0.0                       0.0       ...          \n",
       "10529                        0.0                       0.0       ...          \n",
       "44610                        0.0                       0.0       ...          \n",
       "37062                        0.0                       0.0       ...          \n",
       "\n",
       "       style_Scottish Ale  style_Scottish Gruit / Ancient Herbed Ale  \\\n",
       "index                                                                  \n",
       "40163                 0.0                                        0.0   \n",
       "8135                  0.0                                        0.0   \n",
       "10529                 0.0                                        0.0   \n",
       "44610                 0.0                                        0.0   \n",
       "37062                 0.0                                        0.0   \n",
       "\n",
       "       style_Smoked Beer  style_Tripel  style_Vienna Lager  style_Weizenbock  \\\n",
       "index                                                                          \n",
       "40163                0.0           0.0                 0.0               0.0   \n",
       "8135                 0.0           0.0                 0.0               0.0   \n",
       "10529                0.0           0.0                 0.0               0.0   \n",
       "44610                0.0           0.0                 0.0               0.0   \n",
       "37062                0.0           0.0                 0.0               0.0   \n",
       "\n",
       "       style_Wheatwine  style_Winter Warmer  style_Witbier  review_polarity  \n",
       "index                                                                        \n",
       "40163              0.0                  0.0            0.0        -0.017014  \n",
       "8135               0.0                  0.0            0.0         0.124208  \n",
       "10529              0.0                  0.0            0.0         0.241389  \n",
       "44610              0.0                  0.0            0.0         0.272917  \n",
       "37062              0.0                  0.0            0.0         0.292449  \n",
       "\n",
       "[5 rows x 97 columns]"
      ]
     },
     "execution_count": 20,
     "metadata": {},
     "output_type": "execute_result"
    }
   ],
   "source": [
    "X.head()"
   ]
  },
  {
   "cell_type": "markdown",
   "metadata": {},
   "source": [
    "#### Evaluate model with five-fold cross validation"
   ]
  },
  {
   "cell_type": "code",
   "execution_count": 21,
   "metadata": {
    "collapsed": false
   },
   "outputs": [
    {
     "name": "stdout",
     "output_type": "stream",
     "text": [
      "{'review/appearance': -0.24925654455553942, 'review/taste': -0.31783395679399157, 'review/palate': -0.29906281375914767, 'review/overall': -0.35867288499403427, 'review/aroma': -0.28618195900586135}\n"
     ]
    }
   ],
   "source": [
    "results = {}\n",
    "for rating in ratings:\n",
    "    reg = LinearRegression()\n",
    "    scores = cross_val_score(reg, X, base[rating], cv=5, scoring='neg_mean_squared_error')\n",
    "    results[rating] = np.mean(scores)\n",
    "\n",
    "print (results)"
   ]
  },
  {
   "cell_type": "markdown",
   "metadata": {},
   "source": [
    "#### Add an interaction between age and beer style"
   ]
  },
  {
   "cell_type": "code",
   "execution_count": 36,
   "metadata": {
    "collapsed": false
   },
   "outputs": [],
   "source": [
    "X['style/interaction'] = X['userAgeInYears']"
   ]
  },
  {
   "cell_type": "code",
   "execution_count": 37,
   "metadata": {
    "collapsed": false
   },
   "outputs": [
    {
     "name": "stdout",
     "output_type": "stream",
     "text": [
      "{'review/appearance': -0.24633153583592393, 'review/taste': -0.31301450369171685, 'review/palate': -0.29438417381976045, 'review/overall': -0.35297125477615449, 'review/aroma': -0.28210070893111244}\n"
     ]
    }
   ],
   "source": [
    "results = {}\n",
    "for rating in ratings:\n",
    "    reg = LinearRegression()\n",
    "    scores = cross_val_score(reg, X, base[rating], cv=5, scoring='neg_mean_squared_error')\n",
    "    results[rating] = np.mean(scores)\n",
    "\n",
    "print (results)"
   ]
  },
  {
   "cell_type": "markdown",
   "metadata": {},
   "source": [
    "#### Assign beer styles to categories: ale, lager, hybrid, or other and add to feature set\n",
    "#### See whether or not categorizing the beers will improve rating prediction accuracy\n",
    "#### Adding categories did not improve MSE"
   ]
  },
  {
   "cell_type": "code",
   "execution_count": 38,
   "metadata": {
    "collapsed": false
   },
   "outputs": [
    {
     "data": {
      "text/html": [
       "<div>\n",
       "<table border=\"1\" class=\"dataframe\">\n",
       "  <thead>\n",
       "    <tr style=\"text-align: right;\">\n",
       "      <th></th>\n",
       "      <th>beer/ABV</th>\n",
       "      <th>userAgeInYears</th>\n",
       "      <th>style_Altbier</th>\n",
       "      <th>style_American Adjunct Lager</th>\n",
       "      <th>style_American Amber / Red Ale</th>\n",
       "      <th>style_American Amber / Red Lager</th>\n",
       "      <th>style_American Barleywine</th>\n",
       "      <th>style_American Black Ale</th>\n",
       "      <th>style_American Blonde Ale</th>\n",
       "      <th>style_American Brown Ale</th>\n",
       "      <th>...</th>\n",
       "      <th>noun_phrases</th>\n",
       "      <th>adverbs</th>\n",
       "      <th>verbs</th>\n",
       "      <th>adjs_sentiment</th>\n",
       "      <th>noun_phrase_sentiment</th>\n",
       "      <th>style/interaction</th>\n",
       "      <th>style_ale</th>\n",
       "      <th>style_hybrid</th>\n",
       "      <th>style_lager</th>\n",
       "      <th>style_other</th>\n",
       "    </tr>\n",
       "    <tr>\n",
       "      <th>index</th>\n",
       "      <th></th>\n",
       "      <th></th>\n",
       "      <th></th>\n",
       "      <th></th>\n",
       "      <th></th>\n",
       "      <th></th>\n",
       "      <th></th>\n",
       "      <th></th>\n",
       "      <th></th>\n",
       "      <th></th>\n",
       "      <th></th>\n",
       "      <th></th>\n",
       "      <th></th>\n",
       "      <th></th>\n",
       "      <th></th>\n",
       "      <th></th>\n",
       "      <th></th>\n",
       "      <th></th>\n",
       "      <th></th>\n",
       "      <th></th>\n",
       "      <th></th>\n",
       "    </tr>\n",
       "  </thead>\n",
       "  <tbody>\n",
       "    <tr>\n",
       "      <th>40163</th>\n",
       "      <td>5.0</td>\n",
       "      <td>40</td>\n",
       "      <td>0.0</td>\n",
       "      <td>0.0</td>\n",
       "      <td>0.0</td>\n",
       "      <td>0.0</td>\n",
       "      <td>0.0</td>\n",
       "      <td>0.0</td>\n",
       "      <td>0.0</td>\n",
       "      <td>0.0</td>\n",
       "      <td>...</td>\n",
       "      <td>10</td>\n",
       "      <td>7</td>\n",
       "      <td>2</td>\n",
       "      <td>-0.075521</td>\n",
       "      <td>-0.080952</td>\n",
       "      <td>40</td>\n",
       "      <td>0.0</td>\n",
       "      <td>1.0</td>\n",
       "      <td>0.0</td>\n",
       "      <td>0.0</td>\n",
       "    </tr>\n",
       "    <tr>\n",
       "      <th>8135</th>\n",
       "      <td>11.0</td>\n",
       "      <td>40</td>\n",
       "      <td>0.0</td>\n",
       "      <td>0.0</td>\n",
       "      <td>0.0</td>\n",
       "      <td>0.0</td>\n",
       "      <td>1.0</td>\n",
       "      <td>0.0</td>\n",
       "      <td>0.0</td>\n",
       "      <td>0.0</td>\n",
       "      <td>...</td>\n",
       "      <td>13</td>\n",
       "      <td>6</td>\n",
       "      <td>3</td>\n",
       "      <td>0.020833</td>\n",
       "      <td>0.099242</td>\n",
       "      <td>40</td>\n",
       "      <td>1.0</td>\n",
       "      <td>0.0</td>\n",
       "      <td>0.0</td>\n",
       "      <td>0.0</td>\n",
       "    </tr>\n",
       "    <tr>\n",
       "      <th>10529</th>\n",
       "      <td>4.7</td>\n",
       "      <td>40</td>\n",
       "      <td>0.0</td>\n",
       "      <td>0.0</td>\n",
       "      <td>0.0</td>\n",
       "      <td>0.0</td>\n",
       "      <td>0.0</td>\n",
       "      <td>0.0</td>\n",
       "      <td>0.0</td>\n",
       "      <td>0.0</td>\n",
       "      <td>...</td>\n",
       "      <td>11</td>\n",
       "      <td>6</td>\n",
       "      <td>1</td>\n",
       "      <td>0.175000</td>\n",
       "      <td>0.108333</td>\n",
       "      <td>40</td>\n",
       "      <td>1.0</td>\n",
       "      <td>0.0</td>\n",
       "      <td>0.0</td>\n",
       "      <td>0.0</td>\n",
       "    </tr>\n",
       "    <tr>\n",
       "      <th>44610</th>\n",
       "      <td>4.4</td>\n",
       "      <td>41</td>\n",
       "      <td>0.0</td>\n",
       "      <td>0.0</td>\n",
       "      <td>0.0</td>\n",
       "      <td>0.0</td>\n",
       "      <td>0.0</td>\n",
       "      <td>0.0</td>\n",
       "      <td>0.0</td>\n",
       "      <td>0.0</td>\n",
       "      <td>...</td>\n",
       "      <td>9</td>\n",
       "      <td>3</td>\n",
       "      <td>3</td>\n",
       "      <td>-0.012500</td>\n",
       "      <td>-0.200000</td>\n",
       "      <td>41</td>\n",
       "      <td>0.0</td>\n",
       "      <td>0.0</td>\n",
       "      <td>1.0</td>\n",
       "      <td>0.0</td>\n",
       "    </tr>\n",
       "    <tr>\n",
       "      <th>37062</th>\n",
       "      <td>4.4</td>\n",
       "      <td>40</td>\n",
       "      <td>0.0</td>\n",
       "      <td>0.0</td>\n",
       "      <td>0.0</td>\n",
       "      <td>0.0</td>\n",
       "      <td>0.0</td>\n",
       "      <td>0.0</td>\n",
       "      <td>0.0</td>\n",
       "      <td>0.0</td>\n",
       "      <td>...</td>\n",
       "      <td>10</td>\n",
       "      <td>6</td>\n",
       "      <td>4</td>\n",
       "      <td>0.328869</td>\n",
       "      <td>0.216270</td>\n",
       "      <td>40</td>\n",
       "      <td>1.0</td>\n",
       "      <td>0.0</td>\n",
       "      <td>0.0</td>\n",
       "      <td>0.0</td>\n",
       "    </tr>\n",
       "  </tbody>\n",
       "</table>\n",
       "<p>5 rows × 109 columns</p>\n",
       "</div>"
      ],
      "text/plain": [
       "       beer/ABV  userAgeInYears  style_Altbier  style_American Adjunct Lager  \\\n",
       "index                                                                          \n",
       "40163       5.0              40            0.0                           0.0   \n",
       "8135       11.0              40            0.0                           0.0   \n",
       "10529       4.7              40            0.0                           0.0   \n",
       "44610       4.4              41            0.0                           0.0   \n",
       "37062       4.4              40            0.0                           0.0   \n",
       "\n",
       "       style_American Amber / Red Ale  style_American Amber / Red Lager  \\\n",
       "index                                                                     \n",
       "40163                             0.0                               0.0   \n",
       "8135                              0.0                               0.0   \n",
       "10529                             0.0                               0.0   \n",
       "44610                             0.0                               0.0   \n",
       "37062                             0.0                               0.0   \n",
       "\n",
       "       style_American Barleywine  style_American Black Ale  \\\n",
       "index                                                        \n",
       "40163                        0.0                       0.0   \n",
       "8135                         1.0                       0.0   \n",
       "10529                        0.0                       0.0   \n",
       "44610                        0.0                       0.0   \n",
       "37062                        0.0                       0.0   \n",
       "\n",
       "       style_American Blonde Ale  style_American Brown Ale     ...       \\\n",
       "index                                                          ...        \n",
       "40163                        0.0                       0.0     ...        \n",
       "8135                         0.0                       0.0     ...        \n",
       "10529                        0.0                       0.0     ...        \n",
       "44610                        0.0                       0.0     ...        \n",
       "37062                        0.0                       0.0     ...        \n",
       "\n",
       "       noun_phrases  adverbs  verbs  adjs_sentiment  noun_phrase_sentiment  \\\n",
       "index                                                                        \n",
       "40163            10        7      2       -0.075521              -0.080952   \n",
       "8135             13        6      3        0.020833               0.099242   \n",
       "10529            11        6      1        0.175000               0.108333   \n",
       "44610             9        3      3       -0.012500              -0.200000   \n",
       "37062            10        6      4        0.328869               0.216270   \n",
       "\n",
       "       style/interaction  style_ale  style_hybrid  style_lager  style_other  \n",
       "index                                                                        \n",
       "40163                 40        0.0           1.0          0.0          0.0  \n",
       "8135                  40        1.0           0.0          0.0          0.0  \n",
       "10529                 40        1.0           0.0          0.0          0.0  \n",
       "44610                 41        0.0           0.0          1.0          0.0  \n",
       "37062                 40        1.0           0.0          0.0          0.0  \n",
       "\n",
       "[5 rows x 109 columns]"
      ]
     },
     "execution_count": 38,
     "metadata": {},
     "output_type": "execute_result"
    }
   ],
   "source": [
    "assign_beer_category(df)\n",
    "X['beer/category'] = df['beer/category']\n",
    "X = pd.get_dummies(X, columns=[\"beer/category\"], prefix=[\"style\"])\n",
    "X.head()"
   ]
  },
  {
   "cell_type": "code",
   "execution_count": 39,
   "metadata": {
    "collapsed": false
   },
   "outputs": [
    {
     "name": "stdout",
     "output_type": "stream",
     "text": [
      "{'review/appearance': -0.24631547765124545, 'review/taste': -0.31321905367424724, 'review/palate': -0.29454723779508746, 'review/overall': -0.35299333880445272, 'review/aroma': -0.28216172562757985}\n"
     ]
    }
   ],
   "source": [
    "results = {}\n",
    "for rating in ratings:\n",
    "    reg = LinearRegression()\n",
    "    scores = cross_val_score(reg, X, base[rating], cv=5, scoring='neg_mean_squared_error')\n",
    "    results[rating] = np.mean(scores)\n",
    "\n",
    "print (results)"
   ]
  },
  {
   "cell_type": "markdown",
   "metadata": {},
   "source": [
    "#### output predictions on testing set"
   ]
  },
  {
   "cell_type": "code",
   "execution_count": 197,
   "metadata": {
    "collapsed": false,
    "scrolled": false
   },
   "outputs": [
    {
     "name": "stderr",
     "output_type": "stream",
     "text": [
      "/anaconda/lib/python2.7/site-packages/ipykernel/__main__.py:5: SettingWithCopyWarning: \n",
      "A value is trying to be set on a copy of a slice from a DataFrame.\n",
      "Try using .loc[row_indexer,col_indexer] = value instead\n",
      "\n",
      "See the caveats in the documentation: http://pandas.pydata.org/pandas-docs/stable/indexing.html#indexing-view-versus-copy\n",
      "/anaconda/lib/python2.7/site-packages/ipykernel/__main__.py:6: SettingWithCopyWarning: \n",
      "A value is trying to be set on a copy of a slice from a DataFrame.\n",
      "Try using .loc[row_indexer,col_indexer] = value instead\n",
      "\n",
      "See the caveats in the documentation: http://pandas.pydata.org/pandas-docs/stable/indexing.html#indexing-view-versus-copy\n",
      "/anaconda/lib/python2.7/site-packages/ipykernel/__main__.py:7: SettingWithCopyWarning: \n",
      "A value is trying to be set on a copy of a slice from a DataFrame.\n",
      "Try using .loc[row_indexer,col_indexer] = value instead\n",
      "\n",
      "See the caveats in the documentation: http://pandas.pydata.org/pandas-docs/stable/indexing.html#indexing-view-versus-copy\n",
      "/anaconda/lib/python2.7/site-packages/ipykernel/__main__.py:24: SettingWithCopyWarning: \n",
      "A value is trying to be set on a copy of a slice from a DataFrame.\n",
      "Try using .loc[row_indexer,col_indexer] = value instead\n",
      "\n",
      "See the caveats in the documentation: http://pandas.pydata.org/pandas-docs/stable/indexing.html#indexing-view-versus-copy\n"
     ]
    }
   ],
   "source": [
    "Xtest = pd.DataFrame.from_csv('test.csv')\n",
    "Xtrain = pd.DataFrame.from_csv('train.csv')\n",
    "\n",
    "Xtrain = remove_different_styles(Xtrain, Xtest)\n",
    "ytrain = Xtrain[ratings]\n",
    "\n",
    "assert len(ytrain) == len(Xtrain)\n",
    "\n",
    "Xtrain = extract_features(Xtrain, cols_keep) \n",
    "\n",
    "ytest = Xtest[ratings]\n",
    "Xtest = extract_features(Xtest, cols_keep) \n",
    "\n",
    "assert len(ytest) == len(Xtest)"
   ]
  },
  {
   "cell_type": "code",
   "execution_count": 199,
   "metadata": {
    "collapsed": false
   },
   "outputs": [
    {
     "name": "stdout",
     "output_type": "stream",
     "text": [
      "{'review/appearance': -0.25035521701790786, 'review/taste': -0.32005822439796822, 'review/palate': -0.30060977402601641, 'review/overall': -0.36081921878661805, 'review/aroma': -0.28671190031410027}\n"
     ]
    }
   ],
   "source": [
    "results = {}\n",
    "for rating in ratings:\n",
    "    reg = LinearRegression()\n",
    "    scores = cross_val_score(reg, Xtrain, ytrain[rating], cv=5, scoring='neg_mean_squared_error')\n",
    "    results[rating] = np.mean(scores)\n",
    "\n",
    "print (results)"
   ]
  },
  {
   "cell_type": "code",
   "execution_count": 203,
   "metadata": {
    "collapsed": false
   },
   "outputs": [],
   "source": [
    "format_predictions(Xtrain, ytrain, ratings, Xtest, ytest)\n",
    "ytest.to_csv('results.csv')"
   ]
  },
  {
   "cell_type": "code",
   "execution_count": null,
   "metadata": {
    "collapsed": true
   },
   "outputs": [],
   "source": []
  }
 ],
 "metadata": {
  "anaconda-cloud": {},
  "kernelspec": {
   "display_name": "Python [conda root]",
   "language": "python",
   "name": "conda-root-py"
  },
  "language_info": {
   "codemirror_mode": {
    "name": "ipython",
    "version": 2
   },
   "file_extension": ".py",
   "mimetype": "text/x-python",
   "name": "python",
   "nbconvert_exporter": "python",
   "pygments_lexer": "ipython2",
   "version": "2.7.12"
  }
 },
 "nbformat": 4,
 "nbformat_minor": 1
}
